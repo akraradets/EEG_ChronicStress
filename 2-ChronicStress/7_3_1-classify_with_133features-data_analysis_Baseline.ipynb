{
 "cells": [
  {
   "cell_type": "code",
   "execution_count": 1,
   "metadata": {},
   "outputs": [
    {
     "name": "stdout",
     "output_type": "stream",
     "text": [
      "csv.shape=(720, 137)\n"
     ]
    }
   ],
   "source": [
    "import pandas as pd\n",
    "import numpy as np\n",
    "csv = pd.read_csv('export/15s_133features_filter_std_baseline.csv')\n",
    "print(f\"{csv.shape=}\")\n",
    "\n",
    "def getXY(csv, do_print=True):\n",
    "    df = csv.copy()\n",
    "    y_ori = np.array(df['type'])\n",
    "    y_ori[y_ori == 0] = 0\n",
    "    y_ori[y_ori == 2] = 1\n",
    "    y_ori\n",
    "    head = list(df.keys())\n",
    "    head.remove('Unnamed: 0')\n",
    "    head.remove('name')\n",
    "    head.remove('score')\n",
    "    head.remove('type')\n",
    "    X_ori = np.array(df[head])\n",
    "    if(do_print):\n",
    "        print(f\"{X_ori.shape=} {y_ori.shape=}\")\n",
    "    return X_ori, y_ori"
   ]
  },
  {
   "cell_type": "code",
   "execution_count": 2,
   "metadata": {},
   "outputs": [],
   "source": [
    "def train_model(X_ori,y_ori, do_print=True):\n",
    "    X,y = X_ori.copy(), y_ori.copy()\n",
    "\n",
    "    from sklearn.svm import SVC\n",
    "    from sklearn.utils import shuffle\n",
    "    from sklearn.model_selection import cross_val_score\n",
    "\n",
    "    X_shuff,y_shuff = shuffle(X,y)\n",
    "    model = SVC(kernel='rbf')\n",
    "    cross = cross_val_score(model, X_shuff, y_shuff, cv=10)\n",
    "\n",
    "    model = SVC(kernel='rbf')\n",
    "    model.fit(X_shuff, y_shuff)\n",
    "    ans = model.predict(X_shuff)\n",
    "    acc = sum(ans == y_shuff) / len(y_shuff)\n",
    "    if(do_print):\n",
    "        print(acc, cross.mean(), cross)\n",
    "        return model\n",
    "    else:\n",
    "        return model, acc, cross\n",
    "\n",
    "def report(names,labels,predicts,do_print = True):\n",
    "    correct = 0\n",
    "    wrong = 0\n",
    "    prev_name = None\n",
    "    prev_label = None\n",
    "    count = 0\n",
    "\n",
    "    table = []\n",
    "    summary = []\n",
    "\n",
    "    table.append(f\"Name\\tLabel\\tPredict\")\n",
    "    table.append(\"=\"*30)\n",
    "    for name,predict,label in zip(names,predicts,labels):\n",
    "        if(predict == label): correct += 1\n",
    "        else: wrong += 1\n",
    "\n",
    "        text_predict = 'non-st' if predict == 0 else 'stress'\n",
    "        text_label = 'non-st' if label == 0 else 'stress'\n",
    "        if(prev_name != None and prev_name != name and count > 0): \n",
    "            text_prev_label = 'non-st' if prev_label == 0 else 'stress'\n",
    "            summary.append(f\"label={text_prev_label} | {count} {prev_name}\")\n",
    "            count = 0\n",
    "        if(predict != label):\n",
    "            count = count + 1\n",
    "            table.append(f\"{name}\\t{text_label}\\t{text_predict}\")\n",
    "\n",
    "        prev_label = label\n",
    "        prev_name = name\n",
    "        \n",
    "    if(do_print):\n",
    "        print('\\n'.join(table))    \n",
    "        print()\n",
    "        print(\"Incorrect summany\")\n",
    "        print(\"=\"*30)\n",
    "        print('\\n'.join(summary))\n",
    "        print(f\"Correct={correct} | Wrong={wrong} | Acc={correct / (correct + wrong) * 100}%\")\n",
    "    else:\n",
    "        acc = correct / (correct + wrong)\n",
    "        return summary, acc"
   ]
  },
  {
   "cell_type": "code",
   "execution_count": 3,
   "metadata": {},
   "outputs": [
    {
     "name": "stdout",
     "output_type": "stream",
     "text": [
      "X_ori.shape=(720, 133) y_ori.shape=(720,)\n",
      "1.0 0.9986111111111111 [1.         0.98611111 1.         1.         1.         1.\n",
      " 1.         1.         1.         1.        ]\n",
      "X_ori.shape=(720, 133) y_ori.shape=(720,)\n",
      "\n",
      "Name\tLabel\tPredict\n",
      "==============================\n",
      "\n",
      "Incorrect summany\n",
      "==============================\n",
      "\n",
      "Correct=720 | Wrong=0 | Acc=100.0%\n"
     ]
    }
   ],
   "source": [
    "# model_all\n",
    "X,y = getXY(csv.copy())\n",
    "model_all = train_model(X,y)\n",
    "\n",
    "samples,labels = getXY(csv.copy())\n",
    "names = csv['name']\n",
    "predicts = model_all.predict(samples) \n",
    "print()\n",
    "report(names,labels,predicts)"
   ]
  },
  {
   "cell_type": "code",
   "execution_count": 7,
   "metadata": {},
   "outputs": [
    {
     "name": "stdout",
     "output_type": "stream",
     "text": [
      "non_stress_names=['MJ', 'amp', 'beau', 'beer', 'int', 'job', 'miiw', 'mu', 'nisit', 'noey', 'nuclear', 'praewphan', 'prin', 'sam', 'shin', 'suyo']\n",
      "stress_names=['aui', 'bam', 'bank', 'bas', 'cedric', 'dt', 'eiyu', 'fabby', 'fahmai', 'flm', 'gon', 'kao', 'kee', 'minkhant', 'new', 'pang', 'pla', 'ploy', 'yee', 'yong']\n"
     ]
    }
   ],
   "source": [
    "non_stress_names = list(set(csv[csv['type'] == 0]['name']))\n",
    "non_stress_names.sort()\n",
    "stress_names = list(set(csv[csv['type'] == 2]['name']))\n",
    "stress_names.sort()\n",
    "print(f\"{non_stress_names=}\\n{stress_names=}\")"
   ]
  },
  {
   "cell_type": "code",
   "execution_count": 8,
   "metadata": {},
   "outputs": [
    {
     "name": "stdout",
     "output_type": "stream",
     "text": [
      "REMOVE NAME: MJ - ACC = 98.88888888888889%\n",
      " - label=non-st | 8 MJ\n",
      "REMOVE NAME: amp - ACC = 100.0%\n",
      "REMOVE NAME: beau - ACC = 100.0%\n",
      "REMOVE NAME: beer - ACC = 98.61111111111111%\n",
      " - label=non-st | 10 beer\n",
      "REMOVE NAME: int - ACC = 99.16666666666667%\n",
      " - label=non-st | 6 int\n",
      "REMOVE NAME: job - ACC = 97.22222222222221%\n",
      " - label=non-st | 20 job\n",
      "REMOVE NAME: miiw - ACC = 97.22222222222221%\n",
      " - label=non-st | 20 miiw\n",
      "REMOVE NAME: mu - ACC = 97.22222222222221%\n",
      " - label=non-st | 20 mu\n",
      "REMOVE NAME: nisit - ACC = 97.36111111111111%\n",
      " - label=non-st | 19 nisit\n",
      "REMOVE NAME: noey - ACC = 97.22222222222221%\n",
      " - label=non-st | 20 noey\n",
      "REMOVE NAME: nuclear - ACC = 100.0%\n",
      "REMOVE NAME: praewphan - ACC = 97.77777777777777%\n",
      " - label=non-st | 15 praewphan\n",
      " - label=non-st | 1 prin\n",
      "REMOVE NAME: prin - ACC = 97.5%\n",
      " - label=non-st | 18 prin\n",
      "REMOVE NAME: sam - ACC = 99.44444444444444%\n",
      " - label=non-st | 4 sam\n",
      "REMOVE NAME: shin - ACC = 100.0%\n",
      "REMOVE NAME: suyo - ACC = 98.05555555555556%\n",
      " - label=non-st | 14 suyo\n"
     ]
    }
   ],
   "source": [
    "# model_filter\n",
    "for remove_name in non_stress_names:\n",
    "    selected_csv = csv.copy()\n",
    "    cond = selected_csv['name'] != remove_name\n",
    "    \n",
    "    X,y = getXY(selected_csv[cond],do_print=False)\n",
    "    model,acc,cross = train_model(X,y,do_print=False)\n",
    "    # print(f\"ACC = {acc*100}% | CV = {cross.mean()*100}%\")\n",
    "\n",
    "    samples,labels = getXY(csv.copy(),do_print=False)\n",
    "    names = csv['name']\n",
    "    predicts = model.predict(samples)\n",
    "    # print()\n",
    "    summary,acc = report(names,labels,predicts,do_print=False)\n",
    "\n",
    "\n",
    "    print(f\"REMOVE NAME: {remove_name} - ACC = {acc*100}%\")\n",
    "    for text in summary:\n",
    "        print(f\" - {text}\")\n",
    "    # print(\" \\n\".join(summary))\n",
    "    # print(\"************************************************************\")\n"
   ]
  },
  {
   "cell_type": "code",
   "execution_count": 9,
   "metadata": {},
   "outputs": [
    {
     "name": "stdout",
     "output_type": "stream",
     "text": [
      "REMOVE NAME: aui - ACC = 99.30555555555556%\n",
      " - label=stress | 5 aui\n",
      "REMOVE NAME: bam - ACC = 97.36111111111111%\n",
      " - label=stress | 19 bam\n",
      "REMOVE NAME: bank - ACC = 97.36111111111111%\n",
      " - label=stress | 19 bank\n",
      "REMOVE NAME: bas - ACC = 100.0%\n",
      "REMOVE NAME: cedric - ACC = 100.0%\n",
      "REMOVE NAME: dt - ACC = 97.36111111111111%\n",
      " - label=stress | 19 dt\n",
      "REMOVE NAME: eiyu - ACC = 97.91666666666666%\n",
      " - label=stress | 15 eiyu\n",
      "REMOVE NAME: fabby - ACC = 99.86111111111111%\n",
      " - label=stress | 1 fabby\n",
      "REMOVE NAME: fahmai - ACC = 97.22222222222221%\n",
      " - label=stress | 20 fahmai\n",
      "REMOVE NAME: flm - ACC = 99.16666666666667%\n",
      " - label=stress | 6 flm\n",
      "REMOVE NAME: gon - ACC = 97.77777777777777%\n",
      " - label=stress | 16 gon\n",
      "REMOVE NAME: kao - ACC = 97.91666666666666%\n",
      " - label=stress | 15 kao\n",
      "REMOVE NAME: kee - ACC = 97.22222222222221%\n",
      " - label=stress | 20 kee\n",
      "REMOVE NAME: minkhant - ACC = 99.58333333333333%\n",
      " - label=stress | 3 minkhant\n",
      "REMOVE NAME: new - ACC = 99.16666666666667%\n",
      " - label=stress | 6 new\n",
      "REMOVE NAME: pang - ACC = 97.22222222222221%\n",
      " - label=stress | 20 pang\n",
      "REMOVE NAME: pla - ACC = 98.88888888888889%\n",
      " - label=stress | 8 pla\n",
      "REMOVE NAME: ploy - ACC = 99.16666666666667%\n",
      " - label=stress | 6 ploy\n",
      "REMOVE NAME: yee - ACC = 100.0%\n",
      "REMOVE NAME: yong - ACC = 100.0%\n"
     ]
    }
   ],
   "source": [
    "# model_filter\n",
    "for remove_name in stress_names:\n",
    "    selected_csv = csv.copy()\n",
    "    cond = selected_csv['name'] != remove_name\n",
    "    \n",
    "    X,y = getXY(selected_csv[cond],do_print=False)\n",
    "    model,acc,cross = train_model(X,y,do_print=False)\n",
    "    # print(f\"ACC = {acc*100}% | CV = {cross.mean()*100}%\")\n",
    "\n",
    "    samples,labels = getXY(csv.copy(),do_print=False)\n",
    "    names = csv['name']\n",
    "    predicts = model.predict(samples)\n",
    "    # print()\n",
    "    summary,acc = report(names,labels,predicts,do_print=False)\n",
    "\n",
    "\n",
    "    print(f\"REMOVE NAME: {remove_name} - ACC = {acc*100}%\")\n",
    "    for text in summary:\n",
    "        print(f\" - {text}\")\n",
    "    # print(\" \\n\".join(summary))\n",
    "    # print(\"************************************************************\")\n"
   ]
  }
 ],
 "metadata": {
  "interpreter": {
   "hash": "0eebe16e4c52cb0ff0c850947dc1c747e982716f4a14d440d1344740168caad5"
  },
  "kernelspec": {
   "display_name": "Python 3.8.10 64-bit ('.venv': pipenv)",
   "language": "python",
   "name": "python3"
  },
  "language_info": {
   "codemirror_mode": {
    "name": "ipython",
    "version": 3
   },
   "file_extension": ".py",
   "mimetype": "text/x-python",
   "name": "python",
   "nbconvert_exporter": "python",
   "pygments_lexer": "ipython3",
   "version": "3.8.10"
  },
  "orig_nbformat": 4
 },
 "nbformat": 4,
 "nbformat_minor": 2
}
