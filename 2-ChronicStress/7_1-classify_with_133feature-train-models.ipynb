{
 "cells": [
  {
   "cell_type": "code",
   "execution_count": 97,
   "metadata": {},
   "outputs": [
    {
     "name": "stdout",
     "output_type": "stream",
     "text": [
      "csv.shape=(720, 137)\n",
      "X_ori.shape=(720, 133) y_ori.shape=(720,)\n"
     ]
    }
   ],
   "source": [
    "import pandas as pd\n",
    "import numpy as np\n",
    "csv = pd.read_csv('export/15s_133features_filter.csv')\n",
    "print(f\"{csv.shape=}\")\n",
    "\n",
    "y_ori = np.array(csv['type'])\n",
    "y_ori[y_ori == 0] = 0\n",
    "y_ori[y_ori == 2] = 1\n",
    "y_ori\n",
    "head = list(csv.keys())\n",
    "head.remove('Unnamed: 0')\n",
    "head.remove('name')\n",
    "head.remove('score')\n",
    "head.remove('type')\n",
    "X_ori = np.array(csv[head])\n",
    "print(f\"{X_ori.shape=} {y_ori.shape=}\")"
   ]
  },
  {
   "cell_type": "code",
   "execution_count": 99,
   "metadata": {},
   "outputs": [],
   "source": [
    "def check_float(data):\n",
    "    if(data.dtype == np.int64): data = data.astype(np.float64)\n",
    "    return data\n",
    "\n",
    "def NormJa(data):\n",
    "    data = check_float(data)\n",
    "    for index, row in enumerate(data):\n",
    "        min = row.min()\n",
    "        max = row.max()\n",
    "        # mean = row.mean()\n",
    "        row = (row.astype(np.float64) - min) / float(max - min)\n",
    "        data[index] = row\n",
    "        # print(row)\n",
    "    return data\n",
    "\n",
    "def StandardJa(data):\n",
    "    data = check_float(data)\n",
    "    for index, row in enumerate(data):\n",
    "        mean = row.mean()\n",
    "        std = row.std()\n",
    "        row = (row - mean) / std\n",
    "        data[index] = row\n",
    "        # print(row)\n",
    "    return data"
   ]
  },
  {
   "cell_type": "code",
   "execution_count": 100,
   "metadata": {},
   "outputs": [
    {
     "name": "stdout",
     "output_type": "stream",
     "text": [
      "grid.best_params_={'kernel': 'rbf'} 0.9424074074074074\n"
     ]
    }
   ],
   "source": [
    "from sklearn.svm import SVC\n",
    "from sklearn.model_selection import StratifiedShuffleSplit\n",
    "from sklearn.model_selection import GridSearchCV\n",
    "\n",
    "X,y = X_ori.copy(), y_ori.copy()\n",
    "\n",
    "# X = NormJa(X.copy().T).T\n",
    "X = StandardJa(X.copy().T).T\n",
    "# X = X_ori.copy()\n",
    "\n",
    "param_grid = dict(kernel=['linear','poly','rbf', 'sigmoid'])#,'precomputed'])\n",
    "cv = StratifiedShuffleSplit(n_splits=10, test_size=0.75, random_state=42)\n",
    "grid = GridSearchCV(SVC(), param_grid=param_grid, cv=cv)\n",
    "grid.fit(X, y)\n",
    "\n",
    "print(f\"{grid.best_params_=} {grid.best_score_}\")"
   ]
  },
  {
   "cell_type": "code",
   "execution_count": 101,
   "metadata": {},
   "outputs": [
    {
     "name": "stdout",
     "output_type": "stream",
     "text": [
      "1.0 0.9958333333333333 [1.         1.         0.97222222 1.         1.         0.98611111\n",
      " 1.         1.         1.         1.        ]\n",
      "[1 1 0 0 0 1 1 1 1 1 1 1 1 1 0 0 1 0 0 1 0 1 0 1 1 0 0 1 1 0 0 0 1 0 1 1 1\n",
      " 0 1 1 1 0 0 0 1 0 1 1 1 0 0 1 0 0 1 0 1 0 0 1 1 1 1 1 0 1 0 1 0 1 0 0 1 0\n",
      " 0 0 1 0 1 1 0 1 0 0 1 0 1 1 0 1 1 0 1 0 0 0 1 0 1 0 1 0 1 1 0 1 1 0 1 0 1\n",
      " 1 1 0 1 1 1 1 1 1 1 1 0 1 1 0 1 1 0 1 1 1 1 1 0 1 0 0 0 0 1 1 1 0 1 1 1 0\n",
      " 0 1 1 1 1 0 1 0 1 1 1 1 0 0 0 1 0 0 1 0 0 0 1 1 1 1 1 1 0 1 0 0 0 1 1 1 1\n",
      " 0 0 0 0 1 0 0 1 1 1 1 0 1 0 1 0 1 1 1 0 0 0 0 1 1 0 1 0 0 0 0 0 1 1 0 1 0\n",
      " 0 1 1 0 1 0 1 0 1 0 1 1 1 0 0 1 0 1 1 0 1 1 1 0 1 0 1 1 1 1 1 1 0 0 1 0 1\n",
      " 1 0 1 0 0 1 1 0 0 0 1 0 1 0 0 0 1 0 1 1 1 1 1 1 1 1 0 0 1 1 0 1 1 1 1 0 0\n",
      " 1 0 0 0 0 1 1 0 1 0 0 0 0 1 1 0 1 0 0 1 1 0 1 1 1 1 1 1 0 1 0 0 0 1 1 1 1\n",
      " 1 1 1 1 0 0 0 1 0 1 1 0 1 1 0 1 1 0 1 1 1 1 1 1 0 1 1 1 0 1 0 1 0 0 0 0 1\n",
      " 0 1 0 1 1 1 0 0 0 0 1 1 0 1 0 1 1 0 1 0 1 0 0 1 1 1 1 1 1 1 0 1 1 1 0 1 0\n",
      " 1 0 1 0 0 0 1 1 1 0 1 1 0 1 0 1 1 0 0 0 0 1 1 1 1 1 0 1 1 0 0 1 1 0 1 1 0\n",
      " 1 1 1 1 1 1 1 0 0 1 1 0 1 0 1 1 0 0 1 1 1 0 0 1 1 0 1 1 1 1 1 1 0 0 0 0 1\n",
      " 0 1 0 1 1 0 1 1 1 1 1 0 1 0 0 1 0 0 0 1 1 0 1 0 0 1 1 0 0 0 1 0 1 1 1 1 0\n",
      " 0 0 1 0 0 0 1 1 1 0 0 1 1 0 1 1 1 1 1 1 0 0 0 0 0 0 0 0 1 1 0 0 1 1 1 0 0\n",
      " 0 0 0 1 0 1 1 0 1 1 0 1 1 0 0 1 1 0 1 0 0 1 0 1 1 0 1 1 1 1 1 0 1 1 1 1 1\n",
      " 0 1 1 1 1 1 0 1 1 0 1 0 0 1 0 0 0 0 0 1 0 0 0 1 0 1 0 0 1 1 1 0 1 1 1 0 1\n",
      " 0 1 0 1 1 1 1 1 0 0 0 1 0 0 0 1 0 1 1 1 1 0 1 0 1 1 1 0 0 0 0 1 1 0 1 0 1\n",
      " 0 1 1 0 0 0 0 1 1 1 1 1 0 1 1 0 0 0 0 0 0 0 0 1 1 1 1 1 0 1 1 1 0 0 0 0 1\n",
      " 0 0 1 1 1 1 0 0 0 0 1 0 0 0 0 0 0]\n"
     ]
    }
   ],
   "source": [
    "X,y = X_ori.copy(), y_ori.copy()\n",
    "X = StandardJa(X.copy().T).T\n",
    "\n",
    "\n",
    "from sklearn.utils import shuffle\n",
    "from sklearn.model_selection import cross_val_score\n",
    "\n",
    "X_shuff,y_shuff = shuffle(X,y)\n",
    "model = SVC(kernel='rbf')\n",
    "model.fit(X_shuff, y_shuff)\n",
    "ans = model.predict(X_shuff)\n",
    "acc = sum(ans == y_shuff) / len(y_shuff)\n",
    "cross = cross_val_score(model, X_shuff, y_shuff, cv=10)\n",
    "print(acc, cross.mean(), cross)\n",
    "print(ans)"
   ]
  },
  {
   "cell_type": "code",
   "execution_count": 107,
   "metadata": {},
   "outputs": [
    {
     "name": "stdout",
     "output_type": "stream",
     "text": [
      "0.9888888888888889 0.9722222222222221 [0.98611111 0.94444444 0.98611111 0.98611111 0.95833333 0.95833333\n",
      " 0.94444444 0.98611111 0.98611111 0.98611111]\n",
      "[1 1 1 0 1 1 0 1 1 1 0 1 0 1 1 0 0 1 1 1 0 1 0 0 1 1 1 0 0 0 1 1 1 1 1 1 0\n",
      " 1 0 1 0 0 1 0 0 0 0 1 0 0 1 1 0 0 1 0 1 1 0 0 1 1 0 1 1 1 1 1 1 1 1 0 1 1\n",
      " 1 0 0 0 0 1 1 0 0 0 1 0 1 0 0 1 1 0 0 1 0 1 1 1 0 0 0 1 1 0 1 1 1 0 0 0 1\n",
      " 1 1 1 0 0 0 0 1 0 1 0 1 1 1 0 1 1 1 1 1 1 1 0 1 0 1 1 1 0 0 0 1 1 0 1 1 1\n",
      " 0 1 1 1 1 0 1 1 1 0 1 1 1 0 0 1 0 0 1 0 0 0 1 0 0 1 1 1 1 0 1 0 0 1 1 1 1\n",
      " 0 1 1 1 0 0 0 0 1 0 1 1 1 1 1 0 1 0 1 0 0 1 0 1 0 1 0 0 1 1 1 1 0 1 0 0 1\n",
      " 1 0 1 1 1 1 0 0 1 1 1 0 0 0 1 1 1 1 1 1 0 1 0 1 1 1 1 0 1 0 1 0 1 0 0 1 1\n",
      " 0 1 0 1 1 0 0 1 0 0 0 0 0 0 1 0 0 0 1 1 0 0 0 0 0 1 1 1 1 0 0 1 1 1 0 1 1\n",
      " 1 0 0 1 0 1 1 1 1 0 0 0 1 0 1 1 0 0 0 1 1 0 0 1 1 1 0 1 1 0 0 1 1 0 1 1 0\n",
      " 0 0 1 0 0 0 0 1 0 0 1 0 1 1 1 1 1 1 1 0 1 1 0 0 0 0 1 1 0 0 1 0 1 1 1 1 1\n",
      " 0 1 0 0 1 0 0 1 1 1 1 1 1 0 0 0 0 0 1 1 1 1 0 0 0 1 1 1 1 1 1 0 0 0 1 0 1\n",
      " 1 1 1 1 1 0 0 0 1 0 1 0 0 0 0 1 1 1 1 0 1 0 1 0 0 1 1 1 0 0 0 0 0 0 1 0 1\n",
      " 1 1 0 1 1 1 1 0 1 0 1 0 1 1 1 1 1 1 1 1 0 1 1 0 0 1 0 1 1 1 1 0 0 0 1 1 1\n",
      " 0 1 1 1 1 0 0 0 0 0 1 1 0 1 0 0 1 0 0 0 1 1 0 0 1 1 1 0 0 1 1 1 1 1 0 0 0\n",
      " 1 1 0 1 0 1 1 0 1 1 1 0 0 0 0 0 0 1 1 0 0 1 1 1 0 0 1 1 0 0 0 1 1 0 1 1 1\n",
      " 1 0 1 1 0 1 1 1 0 0 0 1 1 1 0 0 1 0 1 1 0 0 1 0 0 1 1 0 0 0 1 1 1 0 0 1 0\n",
      " 1 0 0 1 0 1 1 0 1 0 1 1 1 0 1 1 1 1 0 0 1 0 1 0 1 0 1 0 0 0 1 1 1 1 1 1 1\n",
      " 1 1 0 0 0 0 0 0 1 0 1 1 0 1 0 1 1 0 1 0 0 0 1 0 0 0 1 1 0 0 1 0 0 1 1 0 1\n",
      " 1 1 0 0 0 1 0 0 0 1 0 0 0 0 0 1 0 1 1 0 0 1 1 1 0 1 0 1 1 1 0 1 1 1 1 1 0\n",
      " 1 0 1 0 1 1 1 1 1 0 0 1 1 1 1 1 1]\n"
     ]
    }
   ],
   "source": [
    "X,y = X_ori.copy(), y_ori.copy()\n",
    "X = StandardJa(X.copy().T).T\n",
    "# print(X.std())\n",
    "from sklearn.linear_model import LogisticRegression\n",
    "from sklearn.utils import shuffle\n",
    "from sklearn.model_selection import cross_val_score\n",
    "\n",
    "X_shuff,y_shuff = shuffle(X,y)\n",
    "model = LogisticRegression(max_iter=1000)\n",
    "model.fit(X_shuff, y_shuff)\n",
    "ans = model.predict(X_shuff)\n",
    "acc = sum(ans == y_shuff) / len(y_shuff)\n",
    "cross = cross_val_score(model, X_shuff, y_shuff, cv=10)\n",
    "print(acc, cross.mean(), cross)\n",
    "print(ans)"
   ]
  },
  {
   "cell_type": "code",
   "execution_count": 111,
   "metadata": {},
   "outputs": [
    {
     "name": "stdout",
     "output_type": "stream",
     "text": [
      "0.6597222222222222 0.6416666666666667 [0.59722222 0.65972222 0.63194444 0.61111111 0.70833333]\n",
      "[1 1 0 1 1 0 0 0 1 0 0 0 0 0 0 0 1 0 0 1 0 0 0 0 0 0 0 0 1 0 1 0 1 1 1 0 0\n",
      " 1 0 0 0 0 0 0 0 0 0 0 1 0 0 0 0 0 0 0 0 0 0 0 0 0 0 0 0 0 1 1 0 1 0 0 0 0\n",
      " 0 1 0 0 0 0 1 1 0 1 1 0 0 1 1 0 1 1 0 1 1 0 1 0 0 1 0 1 0 1 1 0 1 1 1 0 0\n",
      " 0 1 0 1 0 0 0 1 0 0 1 0 0 0 0 1 0 1 1 0 0 1 0 1 0 0 1 1 1 0 1 1 0 1 0 0 0\n",
      " 0 0 1 0 0 0 0 0 0 0 0 0 0 1 0 0 0 1 0 1 0 1 1 0 0 1 0 1 0 0 1 1 0 1 1 0 1\n",
      " 0 1 0 0 1 0 0 0 0 1 0 0 0 0 0 0 0 0 0 0 0 0 0 1 1 0 1 1 0 1 1 1 0 0 0 0 1\n",
      " 0 0 0 1 0 0 1 1 0 0 0 0 1 0 0 1 0 0 0 1 0 0 0 1 0 0 0 0 0 0 0 1 1 0 0 0 0\n",
      " 0 0 0 0 0 0 0 1 0 0 0 0 1 0 0 0 0 0 0 1 0 1 0 0 0 1 0 0 1 0 1 1 0 1 0 1 0\n",
      " 1 1 1 0 0 1 1 1 0 0 0 0 0 1 1 0 0 0 0 0 0 0 1 0 0 0 1 0 0 1 0 0 1 0 0 1 1\n",
      " 0 0 1 0 0 0 0 1 0 0 0 0 0 0 0 0 0 1 0 0 0 0 0 0 1 0 0 1 0 0 0 1 0 1 0 1 0\n",
      " 0 0 1 1 0 1 1 1 1 1 0 0 0 1 1 0 0 0 1 1 1 1 0 1 0 0 0 1 0 0 0 1 0 1 1 0 1\n",
      " 0 0 1 0 0 0 1 0 1 1 0 1 1 0 0 0 1 0 1 0 0 1 0 0 0 0 0 1 1 1 0 1 0 1 0 1 0\n",
      " 1 1 1 0 0 0 0 0 1 1 0 1 0 1 1 1 1 0 0 0 1 0 0 0 0 0 0 0 1 0 1 1 0 0 0 0 0\n",
      " 0 0 0 0 1 1 1 1 1 1 0 0 0 0 0 0 0 1 0 0 1 0 0 0 0 0 0 0 0 0 1 0 1 0 0 1 1\n",
      " 1 0 0 1 0 0 0 0 0 0 1 0 0 0 0 0 0 0 0 1 0 0 0 0 0 1 1 0 0 0 1 0 0 1 1 0 1\n",
      " 1 0 0 0 0 0 1 1 0 0 0 1 0 0 1 0 0 0 0 0 0 0 1 0 0 0 0 0 1 0 0 0 1 0 0 0 0\n",
      " 1 0 0 0 0 0 0 1 1 1 1 0 0 0 0 0 1 0 1 1 0 1 0 0 0 0 0 0 0 0 0 0 0 0 0 0 1\n",
      " 0 0 1 0 0 1 0 0 0 1 0 1 0 1 1 1 1 0 0 0 1 0 0 1 1 1 0 0 0 1 0 1 0 1 1 0 0\n",
      " 1 0 0 0 1 0 1 1 0 0 1 1 0 1 0 0 0 0 0 1 0 0 0 0 1 0 0 0 0 0 0 0 1 1 1 1 0\n",
      " 1 0 0 0 1 0 0 1 0 0 1 0 0 0 0 0 0]\n"
     ]
    }
   ],
   "source": [
    "X,y = X_ori.copy(), y_ori.copy()\n",
    "X = StandardJa(X.copy().T).T\n",
    "# print(X.std())\n",
    "from sklearn.naive_bayes import GaussianNB\n",
    "from sklearn.utils import shuffle\n",
    "from sklearn.model_selection import cross_val_score\n",
    "\n",
    "X_shuff,y_shuff = shuffle(X,y)\n",
    "model = GaussianNB()\n",
    "model.fit(X_shuff, y_shuff)\n",
    "ans = model.predict(X_shuff)\n",
    "acc = sum(ans == y_shuff) / len(y_shuff)\n",
    "cross = cross_val_score(model, X_shuff, y_shuff, cv=5)\n",
    "print(acc, cross.mean(), cross)\n",
    "print(ans)"
   ]
  },
  {
   "cell_type": "code",
   "execution_count": null,
   "metadata": {},
   "outputs": [],
   "source": []
  }
 ],
 "metadata": {
  "interpreter": {
   "hash": "0eebe16e4c52cb0ff0c850947dc1c747e982716f4a14d440d1344740168caad5"
  },
  "kernelspec": {
   "display_name": "Python 3.8.10 64-bit ('.venv': pipenv)",
   "language": "python",
   "name": "python3"
  },
  "language_info": {
   "codemirror_mode": {
    "name": "ipython",
    "version": 3
   },
   "file_extension": ".py",
   "mimetype": "text/x-python",
   "name": "python",
   "nbconvert_exporter": "python",
   "pygments_lexer": "ipython3",
   "version": "3.8.10"
  },
  "orig_nbformat": 4
 },
 "nbformat": 4,
 "nbformat_minor": 2
}
