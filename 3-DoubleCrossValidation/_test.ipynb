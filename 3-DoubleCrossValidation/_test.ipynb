{
 "cells": [
  {
   "cell_type": "code",
   "execution_count": 1,
   "metadata": {},
   "outputs": [
    {
     "name": "stdout",
     "output_type": "stream",
     "text": [
      "Found: 55 files\n",
      "Mean:20.509090909090908, Std:6.149272617066855\n",
      "Non-stressed:16\n",
      "Stressed:19\n",
      "Neutral:20\n",
      "number of epochs = 20.0\n"
     ]
    }
   ],
   "source": [
    "from IPython.display import display\n",
    "import mne\n",
    "from components.dataset import Dataset_Builder\n",
    "import pickle\n",
    "import os\n",
    "import pandas as pd\n",
    "import numpy as np\n",
    "dataset_path = \"data\"\n",
    "dataset = Dataset_Builder(dataset_path=dataset_path)\\\n",
    "            .with_sampling_rate(125)\\\n",
    "            .with_marker(start_minute=0, stop_minute=5, segment_second=15)\\\n",
    "            .build()\n",
    "\n",
    "data, labels, groups = dataset.load_data_all()\n",
    "data.shape, labels.shape, groups.shape"
   ]
  },
  {
   "cell_type": "code",
   "execution_count": 2,
   "metadata": {},
   "outputs": [
    {
     "data": {
      "text/plain": [
       "((700, 16, 1875), (700,), (700,))"
      ]
     },
     "execution_count": 2,
     "metadata": {},
     "output_type": "execute_result"
    }
   ],
   "source": [
    "data, labels, groups = dataset.load_data_all()\n",
    "data.shape, labels.shape, groups.shape"
   ]
  },
  {
   "cell_type": "code",
   "execution_count": 5,
   "metadata": {},
   "outputs": [
    {
     "data": {
      "text/plain": [
       "((20, 16, 1875), (20,), (20,))"
      ]
     },
     "execution_count": 5,
     "metadata": {},
     "output_type": "execute_result"
    }
   ],
   "source": [
    "a,b,c = dataset.load_data('001')\n",
    "a.shape, b.shape, c.shape"
   ]
  },
  {
   "cell_type": "code",
   "execution_count": 7,
   "metadata": {},
   "outputs": [
    {
     "data": {
      "text/plain": [
       "array([0, 0, 0, 0, 0, 0, 0, 0, 0, 0, 0, 0, 0, 0, 0, 0, 0, 0, 0, 0, 0, 0,\n",
       "       0, 0, 0, 0, 0, 0, 0, 0, 0, 0, 0, 0, 0, 0, 0, 0, 0, 0])"
      ]
     },
     "execution_count": 7,
     "metadata": {},
     "output_type": "execute_result"
    }
   ],
   "source": [
    "np.hstack([b,b])"
   ]
  },
  {
   "cell_type": "code",
   "execution_count": 10,
   "metadata": {},
   "outputs": [
    {
     "data": {
      "text/plain": [
       "array([False,  True, False, False,  True,  True, False,  True, False,\n",
       "       False, False, False,  True, False, False,  True, False, False,\n",
       "       False, False,  True, False, False,  True, False,  True, False,\n",
       "       False,  True, False, False,  True, False,  True, False, False,\n",
       "       False,  True, False,  True, False, False, False,  True,  True,\n",
       "       False, False, False,  True, False, False,  True, False,  True,\n",
       "       False])"
      ]
     },
     "execution_count": 10,
     "metadata": {},
     "output_type": "execute_result"
    }
   ],
   "source": [
    "dataset.wh"
   ]
  },
  {
   "cell_type": "code",
   "execution_count": 5,
   "metadata": {},
   "outputs": [
    {
     "name": "stdout",
     "output_type": "stream",
     "text": [
      "(20, 16, 1875) (20,)\n"
     ]
    }
   ],
   "source": [
    "data, labels = dataset.load_data('001')\n",
    "print(data.shape, labels.shape)"
   ]
  },
  {
   "cell_type": "code",
   "execution_count": 6,
   "metadata": {},
   "outputs": [
    {
     "data": {
      "text/plain": [
       "array([0, 0, 0, 0, 0, 0, 0, 0, 0, 0, 0, 0, 0, 0, 0, 0, 0, 0, 0, 0])"
      ]
     },
     "execution_count": 6,
     "metadata": {},
     "output_type": "execute_result"
    }
   ],
   "source": [
    "labels"
   ]
  },
  {
   "cell_type": "code",
   "execution_count": 8,
   "metadata": {},
   "outputs": [
    {
     "data": {
      "text/plain": [
       "array([0, 1, 2, 2, 1, 1, 2, 1, 2, 2, 0, 0, 1, 2, 0, 1, 0, 0, 0, 2, 1, 0,\n",
       "       2, 1, 0, 1, 0, 2, 1, 2, 0, 1, 2, 1, 0, 2, 2, 1, 2, 1, 0, 0, 2, 1,\n",
       "       1, 0, 2, 2, 1, 2, 2, 1, 0, 1, 2])"
      ]
     },
     "execution_count": 8,
     "metadata": {},
     "output_type": "execute_result"
    }
   ],
   "source": [
    "dataset.groups"
   ]
  },
  {
   "cell_type": "code",
   "execution_count": 9,
   "metadata": {},
   "outputs": [
    {
     "name": "stdout",
     "output_type": "stream",
     "text": [
      "7500\n",
      "22500\n",
      "1875\n"
     ]
    },
    {
     "data": {
      "text/plain": [
       "(16, 15000)"
      ]
     },
     "execution_count": 9,
     "metadata": {},
     "output_type": "execute_result"
    }
   ],
   "source": [
    "print(dataset.start_sample)\n",
    "print(dataset.stop_sample)\n",
    "print(dataset.step_sample)\n",
    "data[:, dataset.start_sample:dataset.stop_sample].shape"
   ]
  },
  {
   "cell_type": "code",
   "execution_count": 17,
   "metadata": {},
   "outputs": [
    {
     "name": "stdout",
     "output_type": "stream",
     "text": [
      "(16, 1875)\n"
     ]
    },
    {
     "data": {
      "text/plain": [
       "(8, 16, 1875)"
      ]
     },
     "execution_count": 17,
     "metadata": {},
     "output_type": "execute_result"
    }
   ],
   "source": [
    "data = dataset.load_data('001')\n",
    "# We skip the first marker becase \n",
    "data = np.split(data[:, dataset.start_sample:dataset.stop_sample], dataset._expected_epochs_number, axis=1)\n",
    "print(data[0].shape)\n",
    "data = [np.expand_dims(data,axis=0) for data in data]\n",
    "data = np.vstack(data)\n",
    "data.shape"
   ]
  },
  {
   "cell_type": "code",
   "execution_count": null,
   "metadata": {},
   "outputs": [],
   "source": [
    "# [np.array(16,125*segment),...] => len(data.shape[1]/segment)\n",
    "data = [np.expand_dims(data,axis=0) for data in data]\n",
    "# [np.array(1,16,125*segment),...] => len(data.shape[1]/segment)\n",
    "data = np.vstack(data)\n",
    "# (len(data.shape[1]/segment) , 16 , 125*segment )\n",
    "\n",
    "assert data.shape[0] == dataset._expected_epochs_number, f\"data.shape={data.shape}. Expect the first dimension to be {dataset._expected_epochs_number}\"\n",
    "\n",
    "return data"
   ]
  }
 ],
 "metadata": {
  "kernelspec": {
   "display_name": "Python 3.8.10 ('.venv': pipenv)",
   "language": "python",
   "name": "python3"
  },
  "language_info": {
   "codemirror_mode": {
    "name": "ipython",
    "version": 3
   },
   "file_extension": ".py",
   "mimetype": "text/x-python",
   "name": "python",
   "nbconvert_exporter": "python",
   "pygments_lexer": "ipython3",
   "version": "3.8.10"
  },
  "orig_nbformat": 4,
  "vscode": {
   "interpreter": {
    "hash": "27768773b483d82a9b2b839e3fa80b1be5789db7fd78df4eedef2df266871616"
   }
  }
 },
 "nbformat": 4,
 "nbformat_minor": 2
}
