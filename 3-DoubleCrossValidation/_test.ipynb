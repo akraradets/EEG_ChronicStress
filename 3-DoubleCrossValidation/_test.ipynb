{
 "cells": [
  {
   "cell_type": "code",
   "execution_count": 5,
   "metadata": {},
   "outputs": [
    {
     "name": "stdout",
     "output_type": "stream",
     "text": [
      "Found: 55 files\n",
      "Mean:20.509090909090908, Std:6.149272617066855\n",
      "Non-stressed:16\n",
      "Stressed:19\n",
      "Neutral:20\n",
      "number of epochs = 12.0\n"
     ]
    },
    {
     "data": {
      "text/plain": [
       "((420, 16, 625), (420,), (420,))"
      ]
     },
     "execution_count": 5,
     "metadata": {},
     "output_type": "execute_result"
    }
   ],
   "source": [
    "from IPython.display import display\n",
    "import mne\n",
    "import pickle\n",
    "import os\n",
    "import pandas as pd\n",
    "import numpy as np\n",
    "\n",
    "from components.dataset import Dataset_Builder\n",
    "dataset_path = \"data\"\n",
    "dataset = Dataset_Builder(dataset_path=dataset_path)\\\n",
    "            .with_sampling_rate(125)\\\n",
    "            .with_marker(start_minute=1, stop_minute=2, segment_second=5)\\\n",
    "            .build()\n",
    "\n",
    "data, labels, groups = dataset.load_data_all()\n",
    "data.shape, labels.shape, groups.shape"
   ]
  },
  {
   "cell_type": "code",
   "execution_count": 2,
   "metadata": {},
   "outputs": [
    {
     "data": {
      "text/plain": [
       "((700, 16, 1875), (700,), (700,))"
      ]
     },
     "execution_count": 2,
     "metadata": {},
     "output_type": "execute_result"
    }
   ],
   "source": [
    "data, labels, groups = dataset.load_data_all()\n",
    "data.shape, labels.shape, groups.shape"
   ]
  },
  {
   "cell_type": "code",
   "execution_count": 5,
   "metadata": {},
   "outputs": [
    {
     "data": {
      "text/plain": [
       "((20, 16, 1875), (20,), (20,))"
      ]
     },
     "execution_count": 5,
     "metadata": {},
     "output_type": "execute_result"
    }
   ],
   "source": [
    "a,b,c = dataset.load_data('001')\n",
    "a.shape, b.shape, c.shape"
   ]
  },
  {
   "cell_type": "code",
   "execution_count": 7,
   "metadata": {},
   "outputs": [
    {
     "data": {
      "text/plain": [
       "array([0, 0, 0, 0, 0, 0, 0, 0, 0, 0, 0, 0, 0, 0, 0, 0, 0, 0, 0, 0, 0, 0,\n",
       "       0, 0, 0, 0, 0, 0, 0, 0, 0, 0, 0, 0, 0, 0, 0, 0, 0, 0])"
      ]
     },
     "execution_count": 7,
     "metadata": {},
     "output_type": "execute_result"
    }
   ],
   "source": [
    "np.hstack([b,b])"
   ]
  },
  {
   "cell_type": "code",
   "execution_count": 10,
   "metadata": {},
   "outputs": [
    {
     "data": {
      "text/plain": [
       "array([False,  True, False, False,  True,  True, False,  True, False,\n",
       "       False, False, False,  True, False, False,  True, False, False,\n",
       "       False, False,  True, False, False,  True, False,  True, False,\n",
       "       False,  True, False, False,  True, False,  True, False, False,\n",
       "       False,  True, False,  True, False, False, False,  True,  True,\n",
       "       False, False, False,  True, False, False,  True, False,  True,\n",
       "       False])"
      ]
     },
     "execution_count": 10,
     "metadata": {},
     "output_type": "execute_result"
    }
   ],
   "source": [
    "dataset.wh"
   ]
  },
  {
   "cell_type": "code",
   "execution_count": 5,
   "metadata": {},
   "outputs": [
    {
     "name": "stdout",
     "output_type": "stream",
     "text": [
      "(20, 16, 1875) (20,)\n"
     ]
    }
   ],
   "source": [
    "data, labels = dataset.load_data('001')\n",
    "print(data.shape, labels.shape)"
   ]
  },
  {
   "cell_type": "code",
   "execution_count": 6,
   "metadata": {},
   "outputs": [
    {
     "data": {
      "text/plain": [
       "array([0, 0, 0, 0, 0, 0, 0, 0, 0, 0, 0, 0, 0, 0, 0, 0, 0, 0, 0, 0])"
      ]
     },
     "execution_count": 6,
     "metadata": {},
     "output_type": "execute_result"
    }
   ],
   "source": [
    "labels"
   ]
  },
  {
   "cell_type": "code",
   "execution_count": 8,
   "metadata": {},
   "outputs": [
    {
     "data": {
      "text/plain": [
       "array([0, 1, 2, 2, 1, 1, 2, 1, 2, 2, 0, 0, 1, 2, 0, 1, 0, 0, 0, 2, 1, 0,\n",
       "       2, 1, 0, 1, 0, 2, 1, 2, 0, 1, 2, 1, 0, 2, 2, 1, 2, 1, 0, 0, 2, 1,\n",
       "       1, 0, 2, 2, 1, 2, 2, 1, 0, 1, 2])"
      ]
     },
     "execution_count": 8,
     "metadata": {},
     "output_type": "execute_result"
    }
   ],
   "source": [
    "dataset.groups"
   ]
  },
  {
   "cell_type": "code",
   "execution_count": 9,
   "metadata": {},
   "outputs": [
    {
     "name": "stdout",
     "output_type": "stream",
     "text": [
      "7500\n",
      "22500\n",
      "1875\n"
     ]
    },
    {
     "data": {
      "text/plain": [
       "(16, 15000)"
      ]
     },
     "execution_count": 9,
     "metadata": {},
     "output_type": "execute_result"
    }
   ],
   "source": [
    "print(dataset.start_sample)\n",
    "print(dataset.stop_sample)\n",
    "print(dataset.step_sample)\n",
    "data[:, dataset.start_sample:dataset.stop_sample].shape"
   ]
  },
  {
   "cell_type": "code",
   "execution_count": 17,
   "metadata": {},
   "outputs": [
    {
     "name": "stdout",
     "output_type": "stream",
     "text": [
      "(16, 1875)\n"
     ]
    },
    {
     "data": {
      "text/plain": [
       "(8, 16, 1875)"
      ]
     },
     "execution_count": 17,
     "metadata": {},
     "output_type": "execute_result"
    }
   ],
   "source": [
    "data = dataset.load_data('001')\n",
    "# We skip the first marker becase \n",
    "data = np.split(data[:, dataset.start_sample:dataset.stop_sample], dataset._expected_epochs_number, axis=1)\n",
    "print(data[0].shape)\n",
    "data = [np.expand_dims(data,axis=0) for data in data]\n",
    "data = np.vstack(data)\n",
    "data.shape"
   ]
  },
  {
   "cell_type": "code",
   "execution_count": null,
   "metadata": {},
   "outputs": [],
   "source": [
    "# [np.array(16,125*segment),...] => len(data.shape[1]/segment)\n",
    "data = [np.expand_dims(data,axis=0) for data in data]\n",
    "# [np.array(1,16,125*segment),...] => len(data.shape[1]/segment)\n",
    "data = np.vstack(data)\n",
    "# (len(data.shape[1]/segment) , 16 , 125*segment )\n",
    "\n",
    "assert data.shape[0] == dataset._expected_epochs_number, f\"data.shape={data.shape}. Expect the first dimension to be {dataset._expected_epochs_number}\"\n",
    "\n",
    "return data"
   ]
  },
  {
   "cell_type": "code",
   "execution_count": 12,
   "metadata": {},
   "outputs": [
    {
     "data": {
      "text/plain": [
       "array([  0,   1,   2,   3,   4,   5,   6,   7,   8,   9,  10,  11,  12,\n",
       "        13,  14,  15,  16,  17,  18,  19,  20,  21,  22,  23,  24,  25,\n",
       "        26,  27,  28,  29,  30,  31,  32,  33,  34,  35,  36,  37,  38,\n",
       "        39,  40,  41,  42,  43,  44,  45,  46,  47,  48,  49,  50,  51,\n",
       "        52,  53,  54,  55,  56,  57,  58,  59,  60,  61,  62,  63,  64,\n",
       "        65,  66,  67,  68,  69,  70,  71,  72,  73,  74,  75,  76,  77,\n",
       "        78,  79,  80,  81,  82,  83,  84,  85,  86,  87,  88,  89,  90,\n",
       "        91,  92,  93,  94,  95,  96,  97,  98,  99, 100, 101, 102, 103,\n",
       "       104, 105, 106, 107, 108, 109, 110, 111, 112, 113, 114, 115, 116,\n",
       "       117, 118, 119, 120, 121, 122, 123, 124, 125, 126, 127, 128, 129,\n",
       "       130, 131, 132, 133, 134, 135, 136, 137, 138, 139, 140, 141, 142,\n",
       "       143, 144, 145, 146, 147, 148, 149, 150, 151, 152, 153, 154, 155,\n",
       "       156, 157, 158, 159, 160, 161, 162, 163, 164, 165, 166, 167, 168,\n",
       "       169, 170, 171, 172, 173, 174, 175, 176, 177, 178, 179, 180, 181,\n",
       "       182, 183, 184, 185, 186, 187, 188, 189, 190, 191, 192, 193, 194,\n",
       "       195, 196, 197, 198, 199])"
      ]
     },
     "execution_count": 12,
     "metadata": {},
     "output_type": "execute_result"
    }
   ],
   "source": [
    "import numpy as np\n",
    "a = np.arange(0,200).reshape(2,10,10)\n",
    "a = a.ravel()\n",
    "a"
   ]
  },
  {
   "cell_type": "code",
   "execution_count": 14,
   "metadata": {},
   "outputs": [
    {
     "data": {
      "text/plain": [
       "array([[[  0,   1,   2,   3,   4],\n",
       "        [  5,   6,   7,   8,   9],\n",
       "        [ 10,  11,  12,  13,  14],\n",
       "        [ 15,  16,  17,  18,  19],\n",
       "        [ 20,  21,  22,  23,  24],\n",
       "        [ 25,  26,  27,  28,  29],\n",
       "        [ 30,  31,  32,  33,  34],\n",
       "        [ 35,  36,  37,  38,  39],\n",
       "        [ 40,  41,  42,  43,  44],\n",
       "        [ 45,  46,  47,  48,  49],\n",
       "        [ 50,  51,  52,  53,  54],\n",
       "        [ 55,  56,  57,  58,  59],\n",
       "        [ 60,  61,  62,  63,  64],\n",
       "        [ 65,  66,  67,  68,  69],\n",
       "        [ 70,  71,  72,  73,  74],\n",
       "        [ 75,  76,  77,  78,  79],\n",
       "        [ 80,  81,  82,  83,  84],\n",
       "        [ 85,  86,  87,  88,  89],\n",
       "        [ 90,  91,  92,  93,  94],\n",
       "        [ 95,  96,  97,  98,  99]],\n",
       "\n",
       "       [[100, 101, 102, 103, 104],\n",
       "        [105, 106, 107, 108, 109],\n",
       "        [110, 111, 112, 113, 114],\n",
       "        [115, 116, 117, 118, 119],\n",
       "        [120, 121, 122, 123, 124],\n",
       "        [125, 126, 127, 128, 129],\n",
       "        [130, 131, 132, 133, 134],\n",
       "        [135, 136, 137, 138, 139],\n",
       "        [140, 141, 142, 143, 144],\n",
       "        [145, 146, 147, 148, 149],\n",
       "        [150, 151, 152, 153, 154],\n",
       "        [155, 156, 157, 158, 159],\n",
       "        [160, 161, 162, 163, 164],\n",
       "        [165, 166, 167, 168, 169],\n",
       "        [170, 171, 172, 173, 174],\n",
       "        [175, 176, 177, 178, 179],\n",
       "        [180, 181, 182, 183, 184],\n",
       "        [185, 186, 187, 188, 189],\n",
       "        [190, 191, 192, 193, 194],\n",
       "        [195, 196, 197, 198, 199]]])"
      ]
     },
     "execution_count": 14,
     "metadata": {},
     "output_type": "execute_result"
    }
   ],
   "source": [
    "a.reshape(2,20,5)"
   ]
  },
  {
   "cell_type": "code",
   "execution_count": 16,
   "metadata": {},
   "outputs": [
    {
     "data": {
      "text/plain": [
       "0"
      ]
     },
     "execution_count": 16,
     "metadata": {},
     "output_type": "execute_result"
    }
   ],
   "source": [
    "band_names = ['delta','theta','alpha','beta','gamma','slow','beta_low']\n",
    "band_names.index('delta')"
   ]
  },
  {
   "cell_type": "code",
   "execution_count": 3,
   "metadata": {},
   "outputs": [
    {
     "data": {
      "text/plain": [
       "array([  2,   9,  16,  23,  30,  37,  44,  51,  58,  65,  72,  79,  86,\n",
       "        93, 100, 107, 114, 121])"
      ]
     },
     "execution_count": 3,
     "metadata": {},
     "output_type": "execute_result"
    }
   ],
   "source": [
    "import numpy as np\n",
    "np.arange(2,16*8,16)"
   ]
  },
  {
   "cell_type": "code",
   "execution_count": null,
   "metadata": {},
   "outputs": [],
   "source": []
  },
  {
   "cell_type": "code",
   "execution_count": 16,
   "metadata": {},
   "outputs": [],
   "source": [
    "import numpy as np\n",
    "from sklearn.preprocessing import StandardScaler\n",
    "def standardize(data: np.ndarray) -> np.ndarray:\n",
    "    '''data: a numpy array of shape (n_samples, n_features)\n",
    "    '''\n",
    "    ori_data = data.copy()\n",
    "    ori_data = check_float(ori_data)\n",
    "    ori_data = ori_data.T\n",
    "    for index, row in enumerate(ori_data):\n",
    "        mean = row.mean()\n",
    "        std = row.std()\n",
    "        row = (row - mean) / std\n",
    "        ori_data[index] = row\n",
    "        # print(row)\n",
    "\n",
    "    return ori_data.T\n",
    "\n",
    "def check_float(data) -> np.ndarray:\n",
    "    if(data.dtype == np.int64): data = data.astype(np.float64)\n",
    "    return data"
   ]
  },
  {
   "cell_type": "code",
   "execution_count": 33,
   "metadata": {},
   "outputs": [
    {
     "name": "stdout",
     "output_type": "stream",
     "text": [
      "[[1.000e+00 2.000e+00 3.000e+00 4.000e+00 5.000e+00]\n",
      " [1.100e+00 3.000e+00 3.000e+00 1.040e+02 1.005e+03]\n",
      " [1.200e+00 4.000e+00 3.000e+00 2.040e+02 2.005e+03]\n",
      " [1.300e+00 5.000e+00 3.000e+00 3.040e+02 3.005e+03]\n",
      " [1.400e+00 6.000e+00 3.000e+00 4.040e+02 4.005e+03]\n",
      " [1.500e+00 7.000e+00 3.000e+00 5.040e+02 5.005e+03]\n",
      " [1.600e+00 8.000e+00 3.000e+00 6.040e+02 6.005e+03]\n",
      " [1.700e+00 9.000e+00 3.000e+00 7.040e+02 7.005e+03]\n",
      " [1.800e+00 1.000e+01 3.000e+00 8.040e+02 8.005e+03]\n",
      " [1.900e+00 1.100e+01 3.000e+00 9.040e+02 9.005e+03]]\n"
     ]
    }
   ],
   "source": [
    "data = np.tile(np.arange(0,10,1).reshape(10,1), (1,5)) * [0.1, 1, 0, 100 , 1000] + [1,2,3,4,5]\n",
    "print(data)"
   ]
  },
  {
   "cell_type": "code",
   "execution_count": 34,
   "metadata": {},
   "outputs": [
    {
     "name": "stderr",
     "output_type": "stream",
     "text": [
      "/tmp/ipykernel_15811/2571321800.py:12: RuntimeWarning: invalid value encountered in true_divide\n",
      "  row = (row - mean) / std\n"
     ]
    },
    {
     "data": {
      "text/plain": [
       "array([[-1.5666989 , -1.5666989 ,         nan, -1.5666989 , -1.5666989 ],\n",
       "       [-1.21854359, -1.21854359,         nan, -1.21854359, -1.21854359],\n",
       "       [-0.87038828, -0.87038828,         nan, -0.87038828, -0.87038828],\n",
       "       [-0.52223297, -0.52223297,         nan, -0.52223297, -0.52223297],\n",
       "       [-0.17407766, -0.17407766,         nan, -0.17407766, -0.17407766],\n",
       "       [ 0.17407766,  0.17407766,         nan,  0.17407766,  0.17407766],\n",
       "       [ 0.52223297,  0.52223297,         nan,  0.52223297,  0.52223297],\n",
       "       [ 0.87038828,  0.87038828,         nan,  0.87038828,  0.87038828],\n",
       "       [ 1.21854359,  1.21854359,         nan,  1.21854359,  1.21854359],\n",
       "       [ 1.5666989 ,  1.5666989 ,         nan,  1.5666989 ,  1.5666989 ]])"
      ]
     },
     "execution_count": 34,
     "metadata": {},
     "output_type": "execute_result"
    }
   ],
   "source": [
    "standardize(data.copy())"
   ]
  },
  {
   "cell_type": "code",
   "execution_count": 35,
   "metadata": {},
   "outputs": [
    {
     "data": {
      "text/plain": [
       "array([[-1.5666989 , -1.5666989 ,  0.        , -1.5666989 , -1.5666989 ],\n",
       "       [-1.21854359, -1.21854359,  0.        , -1.21854359, -1.21854359],\n",
       "       [-0.87038828, -0.87038828,  0.        , -0.87038828, -0.87038828],\n",
       "       [-0.52223297, -0.52223297,  0.        , -0.52223297, -0.52223297],\n",
       "       [-0.17407766, -0.17407766,  0.        , -0.17407766, -0.17407766],\n",
       "       [ 0.17407766,  0.17407766,  0.        ,  0.17407766,  0.17407766],\n",
       "       [ 0.52223297,  0.52223297,  0.        ,  0.52223297,  0.52223297],\n",
       "       [ 0.87038828,  0.87038828,  0.        ,  0.87038828,  0.87038828],\n",
       "       [ 1.21854359,  1.21854359,  0.        ,  1.21854359,  1.21854359],\n",
       "       [ 1.5666989 ,  1.5666989 ,  0.        ,  1.5666989 ,  1.5666989 ]])"
      ]
     },
     "execution_count": 35,
     "metadata": {},
     "output_type": "execute_result"
    }
   ],
   "source": [
    "scaler = StandardScaler()\n",
    "scaler.fit_transform(data.copy())"
   ]
  },
  {
   "cell_type": "code",
   "execution_count": 21,
   "metadata": {},
   "outputs": [
    {
     "data": {
      "text/plain": [
       "array([[0, 0, 0, 0, 0],\n",
       "       [1, 1, 1, 1, 1],\n",
       "       [2, 2, 2, 2, 2],\n",
       "       [3, 3, 3, 3, 3],\n",
       "       [4, 4, 4, 4, 4],\n",
       "       [5, 5, 5, 5, 5],\n",
       "       [6, 6, 6, 6, 6],\n",
       "       [7, 7, 7, 7, 7],\n",
       "       [8, 8, 8, 8, 8],\n",
       "       [9, 9, 9, 9, 9]])"
      ]
     },
     "execution_count": 21,
     "metadata": {},
     "output_type": "execute_result"
    }
   ],
   "source": [
    "data"
   ]
  },
  {
   "cell_type": "code",
   "execution_count": 83,
   "metadata": {},
   "outputs": [
    {
     "name": "stdout",
     "output_type": "stream",
     "text": [
      "5\n"
     ]
    }
   ],
   "source": [
    "import re\n",
    "def get_10_cv(file_path):\n",
    "    lines = []\n",
    "    with open(file_path, 'r') as f:\n",
    "        # last_line = f.readlines()[-1]\n",
    "        for line in f:\n",
    "            if(re.search('grid.best_params_',line)):\n",
    "                lines.append(line)\n",
    "    return lines\n",
    "\n",
    "def get_accs(best_rows):\n",
    "    # 26-06-2022 16:09:10|ml.py:44|INFO|3/10|grid.best_params_={'C': 1000000.0, 'gamma': 1e-09, 'kernel': 'rbf', 'max_iter': 1000}, grid.best_score_=0.6678240740740741, grid.best_index_=28, acc=0.4375, time=2.2673180103302\n",
    "    accs = []\n",
    "    for line in best_rows:\n",
    "        acc = float(line[line.index('acc=') + len('acc='): line.index('time=')-2])\n",
    "        accs.append(acc)\n",
    "    return accs\n",
    "        \n",
    "\n",
    "best_rows = get_10_cv('../cv_results/125-1-3-15/ml.log')\n",
    "accs = get_accs(best_rows)\n",
    "print(len(best_rows))"
   ]
  },
  {
   "cell_type": "code",
   "execution_count": 84,
   "metadata": {},
   "outputs": [
    {
     "data": {
      "text/plain": [
       "[0.5, 0.3125, 0.4375, 0.59375, 0.4166666666666667]"
      ]
     },
     "execution_count": 84,
     "metadata": {},
     "output_type": "execute_result"
    }
   ],
   "source": [
    "accs"
   ]
  },
  {
   "cell_type": "code",
   "execution_count": 2,
   "metadata": {},
   "outputs": [],
   "source": [
    "import logging\n",
    "def _init_logger(name:str, filename:str, level:int=logging.INFO):\n",
    "    logger = logging.getLogger(name)\n",
    "    logger.setLevel(level)\n",
    "    formatter = logging.Formatter('%(asctime)s|%(filename)s:%(lineno)d|%(levelname)s|%(message)s')\n",
    "    formatter.datefmt = '%d-%m-%Y %H:%M:%S'\n",
    "\n",
    "    # Handler\n",
    "    consoleHandler = logging.StreamHandler(sys.stdout)\n",
    "    consoleHandler.setFormatter(formatter)\n",
    "    fileHandler = logging.FileHandler(filename=filename)\n",
    "    fileHandler.setFormatter(formatter)\n",
    "\n",
    "    # Add Handler\n",
    "    logger.addHandler(consoleHandler)\n",
    "    logger.addHandler(fileHandler)"
   ]
  },
  {
   "cell_type": "code",
   "execution_count": 4,
   "metadata": {},
   "outputs": [],
   "source": [
    "_init_logger('ml', 'ml.log')"
   ]
  },
  {
   "cell_type": "code",
   "execution_count": 5,
   "metadata": {},
   "outputs": [],
   "source": [
    "logger = logging.getLogger('ml')"
   ]
  },
  {
   "cell_type": "code",
   "execution_count": 14,
   "metadata": {},
   "outputs": [
    {
     "data": {
      "text/plain": [
       "logging.FileHandler"
      ]
     },
     "execution_count": 14,
     "metadata": {},
     "output_type": "execute_result"
    }
   ],
   "source": [
    "a = logger.handlers[1]\n",
    "type(a)"
   ]
  },
  {
   "cell_type": "code",
   "execution_count": 22,
   "metadata": {},
   "outputs": [
    {
     "data": {
      "text/plain": [
       "'/root/projects/3-DoubleCrossValidation/ml.log'"
      ]
     },
     "execution_count": 22,
     "metadata": {},
     "output_type": "execute_result"
    }
   ],
   "source": [
    "a.baseFilename"
   ]
  },
  {
   "cell_type": "code",
   "execution_count": 21,
   "metadata": {},
   "outputs": [
    {
     "data": {
      "text/plain": [
       "False"
      ]
     },
     "execution_count": 21,
     "metadata": {},
     "output_type": "execute_result"
    }
   ],
   "source": [
    "type(a) == logging.StreamHandler"
   ]
  },
  {
   "cell_type": "code",
   "execution_count": 17,
   "metadata": {},
   "outputs": [
    {
     "data": {
      "text/plain": [
       "logging.StreamHandler"
      ]
     },
     "execution_count": 17,
     "metadata": {},
     "output_type": "execute_result"
    }
   ],
   "source": [
    "logging.StreamHandler"
   ]
  },
  {
   "cell_type": "code",
   "execution_count": 3,
   "metadata": {},
   "outputs": [
    {
     "data": {
      "text/plain": [
       "((700, 16, 1875), (700,), (700,))"
      ]
     },
     "execution_count": 3,
     "metadata": {},
     "output_type": "execute_result"
    }
   ],
   "source": [
    "from components.dataset import Dataset_Builder\n",
    "dataset = Dataset_Builder(dataset_path='data')\\\n",
    "            .with_sampling_rate(sampling_rate=125)\\\n",
    "            .with_marker(start_minute=0, \n",
    "                    stop_minute=5, \n",
    "                    segment_second=15)\\\n",
    "            .build()\n",
    "data, labels, groups = dataset.load_data_all()\n",
    "data.shape, labels.shape, groups.shape"
   ]
  },
  {
   "cell_type": "code",
   "execution_count": 16,
   "metadata": {},
   "outputs": [
    {
     "data": {
      "text/plain": [
       "((126,), (700, 16, 126))"
      ]
     },
     "execution_count": 16,
     "metadata": {},
     "output_type": "execute_result"
    }
   ],
   "source": [
    "# https://raphaelvallat.com/bandpower.html\n",
    "from scipy.signal import welch\n",
    "import numpy as np\n",
    "# Compute the modified periodogram (Welch)\n",
    "freqs, psd = welch(data, 125, nperseg=250)\n",
    "freqs.shape, psd.shape"
   ]
  },
  {
   "cell_type": "code",
   "execution_count": 32,
   "metadata": {},
   "outputs": [
    {
     "data": {
      "text/plain": [
       "(700, 112)"
      ]
     },
     "execution_count": 32,
     "metadata": {},
     "output_type": "execute_result"
    }
   ],
   "source": [
    "bands  = {'delta': [1,3],\n",
    "'theta': [4,7],\n",
    "'alpha': [8,12],\n",
    "'beta': [13,30],\n",
    "'gamma': [25,43],\n",
    "'slow': [4,13],\n",
    "'beta_low': [13,17]}\n",
    "from scipy.integrate import simps\n",
    "temp = []\n",
    "for name, (low, high) in bands.items():\n",
    "    idx_band = np.logical_and(freqs >= low, freqs <= high)\n",
    "    bp = simps(psd[:,:,idx_band], dx=freqs[1] - freqs[0])\n",
    "    temp.append(bp)\n",
    "\n",
    "np.hstack(temp).shape"
   ]
  },
  {
   "cell_type": "code",
   "execution_count": 41,
   "metadata": {},
   "outputs": [
    {
     "data": {
      "text/plain": [
       "True"
      ]
     },
     "execution_count": 41,
     "metadata": {},
     "output_type": "execute_result"
    }
   ],
   "source": [
    "(temp == abs(temp)).all()"
   ]
  },
  {
   "cell_type": "code",
   "execution_count": 23,
   "metadata": {},
   "outputs": [
    {
     "data": {
      "text/plain": [
       "(700, 16)"
      ]
     },
     "execution_count": 23,
     "metadata": {},
     "output_type": "execute_result"
    }
   ],
   "source": [
    "bp.shape"
   ]
  },
  {
   "cell_type": "code",
   "execution_count": 38,
   "metadata": {},
   "outputs": [
    {
     "data": {
      "text/plain": [
       "False"
      ]
     },
     "execution_count": 38,
     "metadata": {},
     "output_type": "execute_result"
    }
   ],
   "source": [
    "np.isnan(temp).any()"
   ]
  }
 ],
 "metadata": {
  "kernelspec": {
   "display_name": "Python 3.8.10 ('.venv': pipenv)",
   "language": "python",
   "name": "python3"
  },
  "language_info": {
   "codemirror_mode": {
    "name": "ipython",
    "version": 3
   },
   "file_extension": ".py",
   "mimetype": "text/x-python",
   "name": "python",
   "nbconvert_exporter": "python",
   "pygments_lexer": "ipython3",
   "version": "3.8.10"
  },
  "orig_nbformat": 4,
  "vscode": {
   "interpreter": {
    "hash": "27768773b483d82a9b2b839e3fa80b1be5789db7fd78df4eedef2df266871616"
   }
  }
 },
 "nbformat": 4,
 "nbformat_minor": 2
}
