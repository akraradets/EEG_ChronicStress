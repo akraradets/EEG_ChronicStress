{
 "cells": [
  {
   "cell_type": "code",
   "execution_count": 1,
   "metadata": {},
   "outputs": [],
   "source": [
    "from IPython.display import display\n",
    "import mne\n",
    "import pickle\n",
    "import os\n",
    "import pandas as pd\n",
    "import numpy as np\n",
    "from components.preprocessing import preprocessing\n",
    "from components.dataset import Dataset_Builder\n",
    "from components.stats import rank_mannwhitneyu\n",
    "from components.utils import load_cache, save_cache\n"
   ]
  },
  {
   "cell_type": "code",
   "execution_count": 2,
   "metadata": {},
   "outputs": [
    {
     "data": {
      "text/plain": [
       "((350, 133), (350,), (350,))"
      ]
     },
     "execution_count": 2,
     "metadata": {},
     "output_type": "execute_result"
    }
   ],
   "source": [
    "dataset_path = \"data\"\n",
    "dataset = Dataset_Builder(dataset_path=dataset_path)\\\n",
    "            .with_sampling_rate(125)\\\n",
    "            .with_marker(start_minute=0, stop_minute=5, segment_second=30)\\\n",
    "            .build()\n",
    "\n",
    "data, labels, groups = dataset.load_data_all()\n",
    "bands = {'delta': [1,3],\n",
    "    'theta': [4,7],\n",
    "    'alpha': [8,12],\n",
    "    'beta': [13,30],\n",
    "    'gamma': [25,43],\n",
    "    'slow': [4,13],\n",
    "    'beta_low': [13,17]\n",
    "    }\n",
    "log10 = True\n",
    "data, labels, groups = dataset.load_data_all()\n",
    "data.shape, labels.shape, groups.shape\n",
    "data = preprocessing(data=data,sampling_rate=125,bands=bands,log10=log10)\n",
    "data.shape, labels.shape, groups.shape"
   ]
  },
  {
   "cell_type": "code",
   "execution_count": 2,
   "metadata": {},
   "outputs": [
    {
     "data": {
      "text/plain": [
       "[131,\n",
       " 17,\n",
       " 114,\n",
       " 11,\n",
       " 128,\n",
       " 112,\n",
       " 0,\n",
       " 73,\n",
       " 76,\n",
       " 120,\n",
       " 70,\n",
       " 132,\n",
       " 28,\n",
       " 105,\n",
       " 18,\n",
       " 94,\n",
       " 29,\n",
       " 109,\n",
       " 113,\n",
       " 46,\n",
       " 55,\n",
       " 57,\n",
       " 74,\n",
       " 5,\n",
       " 107,\n",
       " 117,\n",
       " 60,\n",
       " 93,\n",
       " 71,\n",
       " 45,\n",
       " 115,\n",
       " 119,\n",
       " 110,\n",
       " 116,\n",
       " 3,\n",
       " 7,\n",
       " 104,\n",
       " 38,\n",
       " 53,\n",
       " 111,\n",
       " 89,\n",
       " 77,\n",
       " 130,\n",
       " 15,\n",
       " 13,\n",
       " 85,\n",
       " 16,\n",
       " 129,\n",
       " 22,\n",
       " 92,\n",
       " 95,\n",
       " 37,\n",
       " 72,\n",
       " 127,\n",
       " 20,\n",
       " 35,\n",
       " 69,\n",
       " 97,\n",
       " 96,\n",
       " 123,\n",
       " 25,\n",
       " 65,\n",
       " 101,\n",
       " 34,\n",
       " 23]"
      ]
     },
     "execution_count": 2,
     "metadata": {},
     "output_type": "execute_result"
    }
   ],
   "source": [
    "load_cache(path='../selection/125-0-5-30-True/forward', filename='rank.pickle')\n",
    "# save_cache(data=[131], path='../selection/125-0-5-30-True/forward', filename='rank.pickle')"
   ]
  },
  {
   "cell_type": "markdown",
   "metadata": {},
   "source": [
    "# Perform a forward selection"
   ]
  },
  {
   "cell_type": "code",
   "execution_count": 10,
   "metadata": {},
   "outputs": [
    {
     "ename": "Exception",
     "evalue": "logging.FileHandler is not exists in the logger name ml",
     "output_type": "error",
     "traceback": [
      "\u001b[0;31m---------------------------------------------------------------------------\u001b[0m",
      "\u001b[0;31mException\u001b[0m                                 Traceback (most recent call last)",
      "\u001b[1;32m/root/projects/3-DoubleCrossValidation/_test.ipynb Cell 4\u001b[0m in \u001b[0;36m<cell line: 3>\u001b[0;34m()\u001b[0m\n\u001b[1;32m      <a href='vscode-notebook-cell://attached-container%2B7b22636f6e7461696e65724e616d65223a222f6565675f6368726f6e69637374726573732d707974686f6e2d31227d/root/projects/3-DoubleCrossValidation/_test.ipynb#ch0000002vscode-remote?line=0'>1</a>\u001b[0m \u001b[39mfrom\u001b[39;00m \u001b[39mcomponents\u001b[39;00m\u001b[39m.\u001b[39;00m\u001b[39mml\u001b[39;00m \u001b[39mimport\u001b[39;00m train_model\n\u001b[1;32m      <a href='vscode-notebook-cell://attached-container%2B7b22636f6e7461696e65724e616d65223a222f6565675f6368726f6e69637374726573732d707974686f6e2d31227d/root/projects/3-DoubleCrossValidation/_test.ipynb#ch0000002vscode-remote?line=2'>3</a>\u001b[0m \u001b[39mfor\u001b[39;00m i \u001b[39min\u001b[39;00m \u001b[39mrange\u001b[39m(data\u001b[39m.\u001b[39mshape[\u001b[39m0\u001b[39m]):\n\u001b[0;32m----> <a href='vscode-notebook-cell://attached-container%2B7b22636f6e7461696e65724e616d65223a222f6565675f6368726f6e69637374726573732d707974686f6e2d31227d/root/projects/3-DoubleCrossValidation/_test.ipynb#ch0000002vscode-remote?line=3'>4</a>\u001b[0m     cv_scores \u001b[39m=\u001b[39m train_model(X\u001b[39m=\u001b[39;49mdata[:,i\u001b[39m+\u001b[39;49m\u001b[39m1\u001b[39;49m], y\u001b[39m=\u001b[39;49mlabels, groups\u001b[39m=\u001b[39;49mgroups, cv_result_prefix\u001b[39m=\u001b[39;49m\u001b[39mf\u001b[39;49m\u001b[39m\"\u001b[39;49m\u001b[39mcv_results/forward_selection_1\u001b[39;49m\u001b[39m\"\u001b[39;49m)\n\u001b[1;32m      <a href='vscode-notebook-cell://attached-container%2B7b22636f6e7461696e65724e616d65223a222f6565675f6368726f6e69637374726573732d707974686f6e2d31227d/root/projects/3-DoubleCrossValidation/_test.ipynb#ch0000002vscode-remote?line=4'>5</a>\u001b[0m     \u001b[39mprint\u001b[39m(\u001b[39mf\u001b[39m\u001b[39m\"\u001b[39m\u001b[39m{\u001b[39;00mi\u001b[39m+\u001b[39m\u001b[39m1\u001b[39m\u001b[39m}\u001b[39;00m\u001b[39m|10-CV=\u001b[39m\u001b[39m{\u001b[39;00m\u001b[39mformat\u001b[39m(  \u001b[39mround\u001b[39m(cv_scores\u001b[39m.\u001b[39mmean(),\u001b[39m5\u001b[39m), \u001b[39m'\u001b[39m\u001b[39m.5f\u001b[39m\u001b[39m'\u001b[39m)\u001b[39m}\u001b[39;00m\u001b[39m|STD=\u001b[39m\u001b[39m{\u001b[39;00m\u001b[39mformat\u001b[39m(  \u001b[39mround\u001b[39m(cv_scores\u001b[39m.\u001b[39mstd(),\u001b[39m5\u001b[39m), \u001b[39m'\u001b[39m\u001b[39m.5f\u001b[39m\u001b[39m'\u001b[39m)\u001b[39m}\u001b[39;00m\u001b[39m\"\u001b[39m)\n",
      "File \u001b[0;32m~/projects/3-DoubleCrossValidation/components/ml.py:49\u001b[0m, in \u001b[0;36mtrain_model\u001b[0;34m(X, y, groups, cv_result_prefix)\u001b[0m\n\u001b[1;32m     47\u001b[0m n_split_outter \u001b[39m=\u001b[39m \u001b[39m10\u001b[39m\n\u001b[1;32m     48\u001b[0m cv_outter \u001b[39m=\u001b[39m StratifiedGroupKFold(n_splits\u001b[39m=\u001b[39mn_split_outter, shuffle\u001b[39m=\u001b[39m\u001b[39mFalse\u001b[39;00m)\n\u001b[0;32m---> 49\u001b[0m accs \u001b[39m=\u001b[39m get_accs(get_logger_filename(\u001b[39m'\u001b[39;49m\u001b[39mml\u001b[39;49m\u001b[39m'\u001b[39;49m))\n\u001b[1;32m     50\u001b[0m \u001b[39m# if(len(accs) == 10): \u001b[39;00m\n\u001b[1;32m     51\u001b[0m     \u001b[39m# return np.array(accs)\u001b[39;00m\n\u001b[1;32m     52\u001b[0m accs\u001b[39m=\u001b[39m[]\n",
      "File \u001b[0;32m~/projects/3-DoubleCrossValidation/components/ml.py:37\u001b[0m, in \u001b[0;36mget_logger_filename\u001b[0;34m(logger_name)\u001b[0m\n\u001b[1;32m     35\u001b[0m         \u001b[39mreturn\u001b[39;00m handler\u001b[39m.\u001b[39mbaseFilename \u001b[39m# type: ignore\u001b[39;00m\n\u001b[1;32m     36\u001b[0m \u001b[39melse\u001b[39;00m:\n\u001b[0;32m---> 37\u001b[0m     \u001b[39mraise\u001b[39;00m \u001b[39mException\u001b[39;00m(\u001b[39mf\u001b[39m\u001b[39m\"\u001b[39m\u001b[39mlogging.FileHandler is not exists in the logger name \u001b[39m\u001b[39m{\u001b[39;00mlogger_name\u001b[39m}\u001b[39;00m\u001b[39m\"\u001b[39m)\n",
      "\u001b[0;31mException\u001b[0m: logging.FileHandler is not exists in the logger name ml"
     ]
    }
   ],
   "source": [
    "from components.ml import train_model\n",
    "\n",
    "for i in range(data.shape[0]):\n",
    "    cv_scores = train_model(X=data[:,i+1], y=labels, groups=groups, cv_result_prefix=f\"cv_results/forward_selection_1\")\n",
    "    print(f\"{i+1}|10-CV={format(  round(cv_scores.mean(),5), '.5f')}|STD={format(  round(cv_scores.std(),5), '.5f')}\")\n",
    "# n_split=10\n",
    "# cv = StratifiedGroupKFold(n_splits=n_split, shuffle=True, random_state=42)\n",
    "# # # https://scikit-learn.org/stable/auto_examples/svm/plot_rbf_parameters.html\n",
    "# C_range = np.logspace(-2, 10, 7)\n",
    "# gamma_range = np.logspace(-9, 3, 7)\n",
    "# tuned_parameters = [\n",
    "#         # {'kernel': ['linear'], \"C\": C_range, \"max_iter\":[1000]},\n",
    "#         {\"kernel\": [\"rbf\"],    \"C\": C_range, \"max_iter\":[1000],  \"gamma\": gamma_range},\n",
    "#     ]\n",
    "# grid = GridSearchCV(SVC(), param_grid=tuned_parameters, cv=cv, n_jobs=os.cpu_count(), refit=True, return_train_score=True)\n",
    "# grid.fit(X=data, y=labels, groups=groups)\n",
    "# model = grid.best_estimator_\n"
   ]
  },
  {
   "cell_type": "code",
   "execution_count": 5,
   "metadata": {},
   "outputs": [
    {
     "data": {
      "text/html": [
       "<style>#sk-container-id-2 {color: black;background-color: white;}#sk-container-id-2 pre{padding: 0;}#sk-container-id-2 div.sk-toggleable {background-color: white;}#sk-container-id-2 label.sk-toggleable__label {cursor: pointer;display: block;width: 100%;margin-bottom: 0;padding: 0.3em;box-sizing: border-box;text-align: center;}#sk-container-id-2 label.sk-toggleable__label-arrow:before {content: \"▸\";float: left;margin-right: 0.25em;color: #696969;}#sk-container-id-2 label.sk-toggleable__label-arrow:hover:before {color: black;}#sk-container-id-2 div.sk-estimator:hover label.sk-toggleable__label-arrow:before {color: black;}#sk-container-id-2 div.sk-toggleable__content {max-height: 0;max-width: 0;overflow: hidden;text-align: left;background-color: #f0f8ff;}#sk-container-id-2 div.sk-toggleable__content pre {margin: 0.2em;color: black;border-radius: 0.25em;background-color: #f0f8ff;}#sk-container-id-2 input.sk-toggleable__control:checked~div.sk-toggleable__content {max-height: 200px;max-width: 100%;overflow: auto;}#sk-container-id-2 input.sk-toggleable__control:checked~label.sk-toggleable__label-arrow:before {content: \"▾\";}#sk-container-id-2 div.sk-estimator input.sk-toggleable__control:checked~label.sk-toggleable__label {background-color: #d4ebff;}#sk-container-id-2 div.sk-label input.sk-toggleable__control:checked~label.sk-toggleable__label {background-color: #d4ebff;}#sk-container-id-2 input.sk-hidden--visually {border: 0;clip: rect(1px 1px 1px 1px);clip: rect(1px, 1px, 1px, 1px);height: 1px;margin: -1px;overflow: hidden;padding: 0;position: absolute;width: 1px;}#sk-container-id-2 div.sk-estimator {font-family: monospace;background-color: #f0f8ff;border: 1px dotted black;border-radius: 0.25em;box-sizing: border-box;margin-bottom: 0.5em;}#sk-container-id-2 div.sk-estimator:hover {background-color: #d4ebff;}#sk-container-id-2 div.sk-parallel-item::after {content: \"\";width: 100%;border-bottom: 1px solid gray;flex-grow: 1;}#sk-container-id-2 div.sk-label:hover label.sk-toggleable__label {background-color: #d4ebff;}#sk-container-id-2 div.sk-serial::before {content: \"\";position: absolute;border-left: 1px solid gray;box-sizing: border-box;top: 0;bottom: 0;left: 50%;z-index: 0;}#sk-container-id-2 div.sk-serial {display: flex;flex-direction: column;align-items: center;background-color: white;padding-right: 0.2em;padding-left: 0.2em;position: relative;}#sk-container-id-2 div.sk-item {position: relative;z-index: 1;}#sk-container-id-2 div.sk-parallel {display: flex;align-items: stretch;justify-content: center;background-color: white;position: relative;}#sk-container-id-2 div.sk-item::before, #sk-container-id-2 div.sk-parallel-item::before {content: \"\";position: absolute;border-left: 1px solid gray;box-sizing: border-box;top: 0;bottom: 0;left: 50%;z-index: -1;}#sk-container-id-2 div.sk-parallel-item {display: flex;flex-direction: column;z-index: 1;position: relative;background-color: white;}#sk-container-id-2 div.sk-parallel-item:first-child::after {align-self: flex-end;width: 50%;}#sk-container-id-2 div.sk-parallel-item:last-child::after {align-self: flex-start;width: 50%;}#sk-container-id-2 div.sk-parallel-item:only-child::after {width: 0;}#sk-container-id-2 div.sk-dashed-wrapped {border: 1px dashed gray;margin: 0 0.4em 0.5em 0.4em;box-sizing: border-box;padding-bottom: 0.4em;background-color: white;}#sk-container-id-2 div.sk-label label {font-family: monospace;font-weight: bold;display: inline-block;line-height: 1.2em;}#sk-container-id-2 div.sk-label-container {text-align: center;}#sk-container-id-2 div.sk-container {/* jupyter's `normalize.less` sets `[hidden] { display: none; }` but bootstrap.min.css set `[hidden] { display: none !important; }` so we also need the `!important` here to be able to override the default hidden behavior on the sphinx rendered scikit-learn.org. See: https://github.com/scikit-learn/scikit-learn/issues/21755 */display: inline-block !important;position: relative;}#sk-container-id-2 div.sk-text-repr-fallback {display: none;}</style><div id=\"sk-container-id-2\" class=\"sk-top-container\"><div class=\"sk-text-repr-fallback\"><pre>SequentialFeatureSelector(estimator=SVC(), n_features_to_select=25, n_jobs=-1)</pre><b>In a Jupyter environment, please rerun this cell to show the HTML representation or trust the notebook. <br />On GitHub, the HTML representation is unable to render, please try loading this page with nbviewer.org.</b></div><div class=\"sk-container\" hidden><div class=\"sk-item sk-dashed-wrapped\"><div class=\"sk-label-container\"><div class=\"sk-label sk-toggleable\"><input class=\"sk-toggleable__control sk-hidden--visually\" id=\"sk-estimator-id-4\" type=\"checkbox\" ><label for=\"sk-estimator-id-4\" class=\"sk-toggleable__label sk-toggleable__label-arrow\">SequentialFeatureSelector</label><div class=\"sk-toggleable__content\"><pre>SequentialFeatureSelector(estimator=SVC(), n_features_to_select=25, n_jobs=-1)</pre></div></div></div><div class=\"sk-parallel\"><div class=\"sk-parallel-item\"><div class=\"sk-item\"><div class=\"sk-label-container\"><div class=\"sk-label sk-toggleable\"><input class=\"sk-toggleable__control sk-hidden--visually\" id=\"sk-estimator-id-5\" type=\"checkbox\" ><label for=\"sk-estimator-id-5\" class=\"sk-toggleable__label sk-toggleable__label-arrow\">estimator: SVC</label><div class=\"sk-toggleable__content\"><pre>SVC()</pre></div></div></div><div class=\"sk-serial\"><div class=\"sk-item\"><div class=\"sk-estimator sk-toggleable\"><input class=\"sk-toggleable__control sk-hidden--visually\" id=\"sk-estimator-id-6\" type=\"checkbox\" ><label for=\"sk-estimator-id-6\" class=\"sk-toggleable__label sk-toggleable__label-arrow\">SVC</label><div class=\"sk-toggleable__content\"><pre>SVC()</pre></div></div></div></div></div></div></div></div></div></div>"
      ],
      "text/plain": [
       "SequentialFeatureSelector(estimator=SVC(), n_features_to_select=25, n_jobs=-1)"
      ]
     },
     "execution_count": 5,
     "metadata": {},
     "output_type": "execute_result"
    }
   ],
   "source": [
    "sfs = SequentialFeatureSelector(SVC(kernel='rbf'), n_features_to_select=25, n_jobs=-1)\n",
    "sfs.fit(data, labels)\n"
   ]
  },
  {
   "cell_type": "code",
   "execution_count": 7,
   "metadata": {},
   "outputs": [
    {
     "data": {
      "text/plain": [
       "array([ True, False, False, False, False, False, False, False, False,\n",
       "       False, False, False, False, False, False, False, False, False,\n",
       "        True,  True, False, False, False, False, False, False, False,\n",
       "       False, False, False, False, False, False, False,  True,  True,\n",
       "        True, False,  True, False, False, False, False, False, False,\n",
       "       False, False, False,  True,  True,  True,  True,  True, False,\n",
       "       False, False,  True, False, False, False, False, False, False,\n",
       "       False, False, False, False, False, False, False, False, False,\n",
       "       False, False,  True, False, False, False, False, False,  True,\n",
       "        True,  True,  True,  True, False, False, False,  True, False,\n",
       "       False, False, False, False, False, False, False, False, False,\n",
       "       False, False, False, False, False,  True, False, False, False,\n",
       "       False, False, False,  True, False, False, False, False, False,\n",
       "       False, False, False, False,  True, False, False, False,  True,\n",
       "       False, False,  True, False, False, False, False])"
      ]
     },
     "execution_count": 7,
     "metadata": {},
     "output_type": "execute_result"
    }
   ],
   "source": [
    "sfs.get_support()\n",
    "# sfs.transform(data).shape"
   ]
  },
  {
   "cell_type": "code",
   "execution_count": 9,
   "metadata": {},
   "outputs": [
    {
     "data": {
      "text/plain": [
       "(350, 25)"
      ]
     },
     "execution_count": 9,
     "metadata": {},
     "output_type": "execute_result"
    }
   ],
   "source": [
    "data[:, np.array([ True, False, False, False, False, False, False, False, False,\n",
    "       False, False, False, False, False, False, False, False, False,\n",
    "        True,  True, False, False, False, False, False, False, False,\n",
    "       False, False, False, False, False, False, False,  True,  True,\n",
    "        True, False,  True, False, False, False, False, False, False,\n",
    "       False, False, False,  True,  True,  True,  True,  True, False,\n",
    "       False, False,  True, False, False, False, False, False, False,\n",
    "       False, False, False, False, False, False, False, False, False,\n",
    "       False, False,  True, False, False, False, False, False,  True,\n",
    "        True,  True,  True,  True, False, False, False,  True, False,\n",
    "       False, False, False, False, False, False, False, False, False,\n",
    "       False, False, False, False, False,  True, False, False, False,\n",
    "       False, False, False,  True, False, False, False, False, False,\n",
    "       False, False, False, False,  True, False, False, False,  True,\n",
    "       False, False,  True, False, False, False, False])].shape"
   ]
  },
  {
   "cell_type": "code",
   "execution_count": 17,
   "metadata": {},
   "outputs": [],
   "source": [
    "def get_feature_name():\n",
    "    import itertools\n",
    "    ch_names = ['Fp1','Fp2','F3','F4','F7','F8','C3','C4','T3','T4','T5','T6','P3','P4','O1','O2']\n",
    "    band_names = ['delta','theta','alpha','beta','gamma','slow','beta_low','relative']\n",
    "    product = itertools.product(band_names, ch_names)\n",
    "    features = [ feature[1] + '_' + feature[0] for feature in product  ]\n",
    "    features.append('alpha_frontal')\n",
    "    features.append('alpha_temporal')\n",
    "    features.append('alpha_asymetries')\n",
    "    features.append('beta_frontal')\n",
    "    features.append('beta_temporal')\n",
    "    return features\n",
    "feature_name = get_feature_name()"
   ]
  },
  {
   "cell_type": "code",
   "execution_count": 18,
   "metadata": {},
   "outputs": [],
   "source": [
    "feature_selected = ['F8_delta']\n"
   ]
  },
  {
   "cell_type": "code",
   "execution_count": 35,
   "metadata": {},
   "outputs": [
    {
     "data": {
      "text/plain": [
       "array({1, 2, 5}, dtype=object)"
      ]
     },
     "execution_count": 35,
     "metadata": {},
     "output_type": "execute_result"
    }
   ],
   "source": [
    "np.array(set([1,2]).union([5]))"
   ]
  },
  {
   "cell_type": "code",
   "execution_count": 33,
   "metadata": {},
   "outputs": [],
   "source": [
    "feature_to_search = set(feature_name).difference(feature_selected)"
   ]
  },
  {
   "cell_type": "code",
   "execution_count": 25,
   "metadata": {},
   "outputs": [
    {
     "name": "stdout",
     "output_type": "stream",
     "text": [
      "P4_relative\n",
      "F8_beta\n",
      "F3_beta\n",
      "Fp2_delta\n",
      "Fp2_beta_low\n",
      "F7_delta\n",
      "O1_delta\n",
      "T6_slow\n",
      "Fp1_slow\n",
      "T4_alpha\n",
      "O2_theta\n",
      "T4_slow\n",
      "F7_beta\n",
      "P4_theta\n",
      "P4_slow\n",
      "O2_delta\n",
      "T6_relative\n",
      "O1_alpha\n",
      "F8_gamma\n",
      "F3_delta\n",
      "T5_beta\n",
      "beta_frontal\n",
      "C3_beta_low\n",
      "F8_relative\n",
      "F4_alpha\n",
      "F4_theta\n",
      "C4_beta\n",
      "O1_beta\n",
      "T3_delta\n",
      "O2_gamma\n",
      "F7_theta\n",
      "T6_beta_low\n",
      "F3_alpha\n",
      "T3_alpha\n",
      "C3_beta\n",
      "Fp2_beta\n",
      "P4_beta_low\n",
      "O1_theta\n",
      "T6_alpha\n",
      "Fp1_relative\n",
      "Fp2_slow\n",
      "F3_beta_low\n",
      "T3_relative\n",
      "T6_beta\n",
      "F3_gamma\n",
      "O1_slow\n",
      "P3_slow\n",
      "F7_alpha\n",
      "T5_delta\n",
      "T5_alpha\n",
      "T4_delta\n",
      "P3_theta\n",
      "F4_gamma\n",
      "T4_relative\n",
      "F8_alpha\n",
      "C4_beta_low\n",
      "F4_delta\n",
      "F7_relative\n",
      "C4_slow\n",
      "F7_beta_low\n",
      "P4_beta\n",
      "F4_relative\n",
      "O2_beta\n",
      "O1_gamma\n",
      "P4_delta\n",
      "O2_slow\n",
      "C3_relative\n",
      "Fp1_theta\n",
      "T5_theta\n",
      "T4_beta\n",
      "C3_alpha\n",
      "F8_slow\n",
      "P3_gamma\n",
      "Fp1_beta_low\n",
      "P3_delta\n",
      "P4_gamma\n",
      "Fp2_relative\n",
      "F3_theta\n",
      "T3_beta\n",
      "Fp1_alpha\n",
      "C3_theta\n",
      "O1_relative\n",
      "F4_slow\n",
      "F8_theta\n",
      "O2_relative\n",
      "T5_gamma\n",
      "Fp2_theta\n",
      "T4_gamma\n",
      "T6_theta\n",
      "alpha_frontal\n",
      "P3_beta_low\n",
      "T3_gamma\n",
      "T4_theta\n",
      "T6_gamma\n",
      "C4_alpha\n",
      "C3_gamma\n",
      "P3_beta\n",
      "T6_delta\n",
      "alpha_asymetries\n",
      "beta_temporal\n",
      "Fp1_beta\n",
      "P3_alpha\n",
      "F4_beta\n",
      "T3_slow\n",
      "C4_theta\n",
      "T3_theta\n",
      "Fp1_gamma\n",
      "Fp2_gamma\n",
      "F4_beta_low\n",
      "C4_relative\n",
      "C3_slow\n",
      "T5_slow\n",
      "F3_relative\n",
      "Fp2_alpha\n",
      "F7_gamma\n",
      "alpha_temporal\n",
      "C4_delta\n",
      "F8_beta_low\n",
      "Fp1_delta\n",
      "F3_slow\n",
      "F7_slow\n",
      "T5_relative\n",
      "T4_beta_low\n",
      "O1_beta_low\n",
      "P4_alpha\n",
      "C4_gamma\n",
      "C3_delta\n",
      "P3_relative\n",
      "T3_beta_low\n",
      "O2_alpha\n",
      "T5_beta_low\n",
      "O2_beta_low\n"
     ]
    }
   ],
   "source": [
    "for i in feature_to_search:\n",
    "    print(i)"
   ]
  }
 ],
 "metadata": {
  "kernelspec": {
   "display_name": "Python 3.8.10 ('.venv': pipenv)",
   "language": "python",
   "name": "python3"
  },
  "language_info": {
   "codemirror_mode": {
    "name": "ipython",
    "version": 3
   },
   "file_extension": ".py",
   "mimetype": "text/x-python",
   "name": "python",
   "nbconvert_exporter": "python",
   "pygments_lexer": "ipython3",
   "version": "3.8.10"
  },
  "orig_nbformat": 4,
  "vscode": {
   "interpreter": {
    "hash": "27768773b483d82a9b2b839e3fa80b1be5789db7fd78df4eedef2df266871616"
   }
  }
 },
 "nbformat": 4,
 "nbformat_minor": 2
}
