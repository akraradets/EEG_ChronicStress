{
 "cells": [
  {
   "cell_type": "code",
   "execution_count": 1,
   "metadata": {},
   "outputs": [],
   "source": [
    "# https://machinelearningmastery.com/a-gentle-introduction-to-normality-tests-in-python/"
   ]
  },
  {
   "cell_type": "code",
   "execution_count": 64,
   "metadata": {},
   "outputs": [],
   "source": [
    "from components.dataset import Dataset_Builder\n",
    "from components.preprocessing import preprocessing\n",
    "from components.stats import check_normality\n",
    "start_minute=0\n",
    "stop_minute=5\n",
    "segment_second=30\n",
    "sampling_rate = 125\n",
    "log10 = True\n",
    "bands = {'delta': [1,3],\n",
    "    'theta': [4,7],\n",
    "    'alpha': [8,12],\n",
    "    'beta': [13,30],\n",
    "    'gamma': [25,43],\n",
    "    'slow': [4,13],\n",
    "    'beta_low': [13,17]\n",
    "    }\n",
    "\n",
    "dataset = Dataset_Builder(dataset_path='data')\\\n",
    "            .with_sampling_rate(sampling_rate=sampling_rate)\\\n",
    "            .with_marker(start_minute=start_minute, \n",
    "                    stop_minute=stop_minute, \n",
    "                    segment_second=segment_second)\\\n",
    "            .build()\n",
    "\n",
    "data, labels, groups = dataset.load_data_all()\n",
    "data = preprocessing(data=data,sampling_rate=sampling_rate,bands=bands,log10=log10)"
   ]
  },
  {
   "cell_type": "code",
   "execution_count": 65,
   "metadata": {},
   "outputs": [
    {
     "data": {
      "text/plain": [
       "133"
      ]
     },
     "execution_count": 65,
     "metadata": {},
     "output_type": "execute_result"
    }
   ],
   "source": [
    "import itertools\n",
    "ch_names = ['Fp1','Fp2','F3','F4','F7','F8','C3','C4','T3','T4','T5','T6','P3','P4','O1','O2']\n",
    "band_names = ['delta','theta','alpha','beta','gamma','slow','beta_low','relative']\n",
    "product = itertools.product(band_names, ch_names)\n",
    "features = [ feature[1] + '_' + feature[0] for feature in product  ]\n",
    "features.append('alpha_frontal')\n",
    "features.append('alpha_temporal')\n",
    "features.append('alpha_asymetries')\n",
    "features.append('beta_frontal')\n",
    "features.append('beta_temporal')\n",
    "len(features)"
   ]
  },
  {
   "cell_type": "code",
   "execution_count": 66,
   "metadata": {},
   "outputs": [
    {
     "data": {
      "text/plain": [
       "((190, 133), (160, 133))"
      ]
     },
     "execution_count": 66,
     "metadata": {},
     "output_type": "execute_result"
    }
   ],
   "source": [
    "data[labels == dataset.GROUP_STRESSED, :].shape, data[labels == dataset.GROUP_NON_STRESSED, :].shape"
   ]
  },
  {
   "cell_type": "code",
   "execution_count": 67,
   "metadata": {},
   "outputs": [
    {
     "data": {
      "text/plain": [
       "(350, 10)"
      ]
     },
     "execution_count": 67,
     "metadata": {},
     "output_type": "execute_result"
    }
   ],
   "source": [
    "data[:,[131,130,126,127,115,22,109,128,102,21]].shape"
   ]
  },
  {
   "cell_type": "code",
   "execution_count": 68,
   "metadata": {},
   "outputs": [
    {
     "name": "stdout",
     "output_type": "stream",
     "text": [
      "0 Fp1_delta Ttest_indResult(statistic=-4.192830371793877, pvalue=3.6271733338022854e-05)\n",
      "2 F3_delta Ttest_indResult(statistic=-5.142916154005843, pvalue=5.120754755424126e-07)\n",
      "3 F4_delta Ttest_indResult(statistic=-3.476050245048737, pvalue=0.000586122551184153)\n",
      "4 F7_delta Ttest_indResult(statistic=-3.890764975562474, pvalue=0.0001270380016913378)\n",
      "6 C3_delta Ttest_indResult(statistic=3.8857436216831465, pvalue=0.00012270162770637257)\n",
      "18 F3_theta Ttest_indResult(statistic=-3.508005576600429, pvalue=0.0005134025655686465)\n",
      "34 F3_alpha Ttest_indResult(statistic=-4.845686731445187, pvalue=1.9044928334451267e-06)\n",
      "35 F4_alpha Ttest_indResult(statistic=-3.6203566049304388, pvalue=0.0003386081048113957)\n",
      "36 F7_alpha Ttest_indResult(statistic=-4.146992140347963, pvalue=4.2448674114210996e-05)\n",
      "40 T3_alpha Ttest_indResult(statistic=-3.5771515641421634, pvalue=0.0003965589349196775)\n",
      "42 T5_alpha Ttest_indResult(statistic=-4.404597779883738, pvalue=1.4129184489623668e-05)\n",
      "43 T6_alpha Ttest_indResult(statistic=-3.5539526366322836, pvalue=0.00043292212469140095)\n",
      "44 P3_alpha Ttest_indResult(statistic=-3.382260798086631, pvalue=0.0008010155764566733)\n",
      "45 P4_alpha Ttest_indResult(statistic=-4.101927752821971, pvalue=5.1143440410084894e-05)\n",
      "46 O1_alpha Ttest_indResult(statistic=-3.392332088695433, pvalue=0.0007734494670935347)\n",
      "82 F3_slow Ttest_indResult(statistic=-4.55068092074583, pvalue=7.403523116814107e-06)\n",
      "90 T5_slow Ttest_indResult(statistic=-3.882320777895687, pvalue=0.00012386832644651258)\n",
      "98 F3_beta_low Ttest_indResult(statistic=-3.351728127975532, pvalue=0.0008975275276622508)\n",
      "115 F4_relative Ttest_indResult(statistic=3.8886127351876403, pvalue=0.00012140771949450145)\n",
      "128 alpha_frontal Ttest_indResult(statistic=-3.3431294853755094, pvalue=0.0009216671112389971)\n",
      "130 alpha_asymetries Ttest_indResult(statistic=-3.862043300825608, pvalue=0.0001341709859291195)\n",
      "131 beta_frontal Ttest_indResult(statistic=-6.030990982033862, pvalue=6.0614599940824035e-09)\n",
      "22\n",
      "[131   2  34  82  42   0  36  45 115   6]\n"
     ]
    }
   ],
   "source": [
    "from scipy.stats import ttest_ind\n",
    "\n",
    "p_values = []\n",
    "for i in range(133):\n",
    "    result = ttest_ind(data[labels == dataset.GROUP_STRESSED, i], data[labels == dataset.GROUP_NON_STRESSED, i], equal_var=False)\n",
    "    # print(result)\n",
    "    if(result.pvalue < 0.001):\n",
    "        print(i, features[i], result)\n",
    "    p_values.append(result.pvalue)\n",
    "# np.array(p_values).argsort()\n",
    "print(sum(np.array(p_values) < 0.001))\n",
    "print(np.array(p_values).argsort()[:10])"
   ]
  },
  {
   "cell_type": "code",
   "execution_count": 69,
   "metadata": {},
   "outputs": [
    {
     "name": "stdout",
     "output_type": "stream",
     "text": [
      "0 Fp1_delta MannwhitneyuResult(statistic=10891.0, pvalue=4.899285989267702e-06)\n",
      "2 F3_delta MannwhitneyuResult(statistic=11011.0, pvalue=8.921033757349702e-06)\n",
      "6 C3_delta MannwhitneyuResult(statistic=18625.0, pvalue=0.0002816746186633412)\n",
      "18 F3_theta MannwhitneyuResult(statistic=10798.0, pvalue=3.0462136587402635e-06)\n",
      "34 F3_alpha MannwhitneyuResult(statistic=10984.0, pvalue=7.80622363136141e-06)\n",
      "36 F7_alpha MannwhitneyuResult(statistic=11559.0, pvalue=0.00011308218278971546)\n",
      "40 T3_alpha MannwhitneyuResult(statistic=12000.0, pvalue=0.0006913454094736478)\n",
      "42 T5_alpha MannwhitneyuResult(statistic=11957.0, pvalue=0.0005847544876142332)\n",
      "43 T6_alpha MannwhitneyuResult(statistic=12041.0, pvalue=0.0008095491398651458)\n",
      "45 P4_alpha MannwhitneyuResult(statistic=11019.0, pvalue=9.279552806064959e-06)\n",
      "66 F3_gamma MannwhitneyuResult(statistic=11972.0, pvalue=0.0006200662023785448)\n",
      "82 F3_slow MannwhitneyuResult(statistic=11134.0, pvalue=1.6225385367049565e-05)\n",
      "98 F3_beta_low MannwhitneyuResult(statistic=10946.0, pvalue=6.460529582901273e-06)\n",
      "115 F4_relative MannwhitneyuResult(statistic=18449.0, pvalue=0.0005711613274631567)\n",
      "116 F7_relative MannwhitneyuResult(statistic=18460.0, pvalue=0.0005470017416898312)\n",
      "131 beta_frontal MannwhitneyuResult(statistic=9457.0, pvalue=1.1306918855076171e-09)\n",
      "16\n",
      "[131  18   0  98  34   2  45  82  36   6]\n"
     ]
    }
   ],
   "source": [
    "from scipy.stats import mannwhitneyu\n",
    "p_values = []\n",
    "for i in range(133):\n",
    "    result = mannwhitneyu(data[labels == dataset.GROUP_STRESSED, i], data[labels == dataset.GROUP_NON_STRESSED, i])\n",
    "    if(result.pvalue < 0.001):\n",
    "        print(i, features[i], result)\n",
    "    p_values.append(result.pvalue)\n",
    "np.array(p_values).argsort()\n",
    "print(sum(np.array(p_values) < 0.001))\n",
    "print(np.array(p_values).argsort()[:10])"
   ]
  },
  {
   "cell_type": "code",
   "execution_count": 36,
   "metadata": {},
   "outputs": [
    {
     "name": "stdout",
     "output_type": "stream",
     "text": [
      "0 Fp1_delta RanksumsResult(statistic=-5.5619903737049, pvalue=2.6671500830368357e-08)\n",
      "2 F3_delta RanksumsResult(statistic=-6.047876607781252, pvalue=1.4676729097959636e-09)\n",
      "3 F4_delta RanksumsResult(statistic=-3.871706601879443, pvalue=0.00010807599594131161)\n",
      "4 F7_delta RanksumsResult(statistic=-4.064185086884207, pvalue=4.820056711995592e-05)\n",
      "6 C3_delta RanksumsResult(statistic=5.281714685013753, pvalue=1.2798039761190197e-07)\n",
      "15 O2_delta RanksumsResult(statistic=-3.616194227048558, pvalue=0.00029896609033146313)\n",
      "17 Fp2_theta RanksumsResult(statistic=3.8975955209151714, pvalue=9.715250626356679e-05)\n",
      "18 F3_theta RanksumsResult(statistic=-6.179572413310827, pvalue=6.427544729616915e-10)\n",
      "22 C3_theta RanksumsResult(statistic=3.98576792632671, pvalue=6.726223020040428e-05)\n",
      "32 Fp1_alpha RanksumsResult(statistic=-4.05555544720563, pvalue=5.001530570414858e-05)\n",
      "33 Fp2_alpha RanksumsResult(statistic=-3.297647962391552, pvalue=0.0009749828996169052)\n",
      "34 F3_alpha RanksumsResult(statistic=-6.4887386348389455, pvalue=8.655797348442081e-11)\n",
      "35 F4_alpha RanksumsResult(statistic=-4.503171105316123, pvalue=6.694694026257907e-06)\n",
      "36 F7_alpha RanksumsResult(statistic=-5.427668156099236, pvalue=5.7095066708916116e-08)\n",
      "37 F8_alpha RanksumsResult(statistic=-3.353928221164874, pvalue=0.000796730275810576)\n",
      "40 T3_alpha RanksumsResult(statistic=-4.735796174912523, pvalue=2.1819679700806885e-06)\n",
      "42 T5_alpha RanksumsResult(statistic=-4.851358306260412, pvalue=1.2261879588705817e-06)\n",
      "43 T6_alpha RanksumsResult(statistic=-4.804458090615976, pvalue=1.5517119770878776e-06)\n",
      "44 P3_alpha RanksumsResult(statistic=-4.130220590511572, pvalue=3.62415321650738e-05)\n",
      "45 P4_alpha RanksumsResult(statistic=-6.180322816761138, pvalue=6.397065669195246e-10)\n",
      "46 O1_alpha RanksumsResult(statistic=-4.300562173732161, pvalue=1.7036536319483908e-05)\n",
      "47 O2_alpha RanksumsResult(statistic=-3.754268461905776, pvalue=0.00017384845972281127)\n",
      "50 F3_beta RanksumsResult(statistic=-4.28818051680203, pvalue=1.8014266835752605e-05)\n",
      "66 F3_gamma RanksumsResult(statistic=-4.868242383892409, pvalue=1.1259517821631698e-06)\n",
      "82 F3_slow RanksumsResult(statistic=-6.2092133495981106, pvalue=5.325048712599996e-10)\n",
      "84 F7_slow RanksumsResult(statistic=-3.9985247849819965, pvalue=6.373850753220808e-05)\n",
      "90 T5_slow RanksumsResult(statistic=-3.9418693244835183, pvalue=8.084902358389429e-05)\n",
      "91 T6_slow RanksumsResult(statistic=-4.297935761656073, pvalue=1.7239610650051103e-05)\n",
      "93 P4_slow RanksumsResult(statistic=-3.3741891143232707, pvalue=0.0007403348753864218)\n",
      "94 O1_slow RanksumsResult(statistic=-3.95087416588725, pvalue=7.786625908053727e-05)\n",
      "98 F3_beta_low RanksumsResult(statistic=-6.315770639542268, pvalue=2.688184908123036e-10)\n",
      "107 T6_beta_low RanksumsResult(statistic=-4.045049798901276, pvalue=5.231200302771615e-05)\n",
      "112 Fp1_relative RanksumsResult(statistic=3.474367974939785, pvalue=0.000512058283463218)\n",
      "113 Fp2_relative RanksumsResult(statistic=4.0630594817087395, pvalue=4.843368116891594e-05)\n",
      "115 F4_relative RanksumsResult(statistic=5.017947872229447, pvalue=5.222634247554983e-07)\n",
      "116 F7_relative RanksumsResult(statistic=4.628113279792899, pvalue=3.690121638094053e-06)\n",
      "122 T5_relative RanksumsResult(statistic=4.40449305160023, pvalue=1.0603153925795885e-05)\n",
      "123 T6_relative RanksumsResult(statistic=3.9820159090751552, pvalue=6.833320458353655e-05)\n",
      "126 O1_relative RanksumsResult(statistic=3.7996678706495897, pvalue=0.00014489013856142953)\n",
      "127 O2_relative RanksumsResult(statistic=4.181998428583029, pvalue=2.8895796757295415e-05)\n",
      "128 alpha_frontal RanksumsResult(statistic=-3.8840882588095735, pvalue=0.00010271459423688278)\n",
      "130 alpha_asymetries RanksumsResult(statistic=-3.690108966904188, pvalue=0.00022415801270201822)\n",
      "131 beta_frontal RanksumsResult(statistic=-8.44766684187573, pvalue=2.9718199360217803e-17)\n"
     ]
    },
    {
     "data": {
      "text/plain": [
       "43"
      ]
     },
     "execution_count": 36,
     "metadata": {},
     "output_type": "execute_result"
    }
   ],
   "source": [
    "from scipy.stats import ranksums\n",
    "p_values = []\n",
    "for i in range(133):\n",
    "    result = ranksums(data[labels == dataset.GROUP_STRESSED, i], data[labels == dataset.GROUP_NON_STRESSED, i])\n",
    "    if(result.pvalue < 0.001):\n",
    "        print(i, features[i], result)\n",
    "    p_values.append(result.pvalue)\n",
    "np.array(p_values).argsort()\n",
    "sum(np.array(p_values) < 0.001)"
   ]
  },
  {
   "cell_type": "code",
   "execution_count": 2,
   "metadata": {},
   "outputs": [
    {
     "data": {
      "text/plain": [
       "(array([], dtype=int64),)"
      ]
     },
     "execution_count": 2,
     "metadata": {},
     "output_type": "execute_result"
    }
   ],
   "source": [
    "from scipy.stats import shapiro\n",
    "alpha = 0.05\n",
    "stats, ps = [],[]\n",
    "for i in range(data.shape[1]):\n",
    "    column = data[:,i]\n",
    "    stat, p = shapiro(column)\n",
    "    stats.append(stat)\n",
    "    ps.append(p)\n",
    "    if p > alpha:\n",
    "        print(i, ': Sample looks Gaussian (fail to reject H0)')\n",
    "    # else:\n",
    "    #     print('Sample does not look Gaussian (reject H0)')\n",
    "ps = np.array(ps)\n",
    "np.where(ps > alpha)"
   ]
  }
 ],
 "metadata": {
  "kernelspec": {
   "display_name": "Python 3.8.10 ('.venv': pipenv)",
   "language": "python",
   "name": "python3"
  },
  "language_info": {
   "codemirror_mode": {
    "name": "ipython",
    "version": 3
   },
   "file_extension": ".py",
   "mimetype": "text/x-python",
   "name": "python",
   "nbconvert_exporter": "python",
   "pygments_lexer": "ipython3",
   "version": "3.8.10"
  },
  "orig_nbformat": 4,
  "vscode": {
   "interpreter": {
    "hash": "27768773b483d82a9b2b839e3fa80b1be5789db7fd78df4eedef2df266871616"
   }
  }
 },
 "nbformat": 4,
 "nbformat_minor": 2
}
