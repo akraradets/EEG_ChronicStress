{
 "cells": [
  {
   "cell_type": "markdown",
   "source": [
    "# Hypothesis 1\n",
    "\n",
    "There is a relation between EEG signal and 3 levels of stress.\n",
    "\n",
    "For each pair of person and task, there are 3 distinct groups of EEG signals representing the 3 levels of stress."
   ],
   "metadata": {}
  },
  {
   "cell_type": "code",
   "execution_count": 72,
   "source": [
    "from utils import *\n",
    "import pandas as pd\n",
    "import mne\n",
    "from glob import glob\n",
    "import numpy as np\n",
    "import matplotlib.pyplot as plt"
   ],
   "outputs": [],
   "metadata": {}
  },
  {
   "cell_type": "code",
   "execution_count": 73,
   "source": [
    "participant_name = \"nutcha\"\n",
    "task = \"mathcontrol\" \n",
    "# task = \"mathstress\"\n",
    "files = glob(f\"data/{participant_name}_{task}_*.csv\")\n",
    "if(len(files) != 1):\n",
    "    raise ValueError(f\"glob found these files. {files}\")\n",
    "\n",
    "pandasRaw = pd.read_csv(files[0], dtype={'Marker':str})\n",
    "pandasRaw,marker_idx = marker_converter_1(pandasRaw)\n",
    "pandasRaw"
   ],
   "outputs": [
    {
     "output_type": "execute_result",
     "data": {
      "text/html": [
       "<div>\n",
       "<style scoped>\n",
       "    .dataframe tbody tr th:only-of-type {\n",
       "        vertical-align: middle;\n",
       "    }\n",
       "\n",
       "    .dataframe tbody tr th {\n",
       "        vertical-align: top;\n",
       "    }\n",
       "\n",
       "    .dataframe thead th {\n",
       "        text-align: right;\n",
       "    }\n",
       "</style>\n",
       "<table border=\"1\" class=\"dataframe\">\n",
       "  <thead>\n",
       "    <tr style=\"text-align: right;\">\n",
       "      <th></th>\n",
       "      <th>Fp1</th>\n",
       "      <th>Fp2</th>\n",
       "      <th>F3</th>\n",
       "      <th>F4</th>\n",
       "      <th>F7</th>\n",
       "      <th>F8</th>\n",
       "      <th>O1</th>\n",
       "      <th>O2</th>\n",
       "      <th>Marker</th>\n",
       "    </tr>\n",
       "  </thead>\n",
       "  <tbody>\n",
       "    <tr>\n",
       "      <th>0</th>\n",
       "      <td>13601.416</td>\n",
       "      <td>14019.104</td>\n",
       "      <td>8651.623</td>\n",
       "      <td>20291.449</td>\n",
       "      <td>13364.712</td>\n",
       "      <td>2385.579</td>\n",
       "      <td>-1963.109</td>\n",
       "      <td>7528.604</td>\n",
       "      <td>0</td>\n",
       "    </tr>\n",
       "    <tr>\n",
       "      <th>1</th>\n",
       "      <td>13608.167</td>\n",
       "      <td>14024.289</td>\n",
       "      <td>8656.630</td>\n",
       "      <td>20285.705</td>\n",
       "      <td>13375.910</td>\n",
       "      <td>2384.909</td>\n",
       "      <td>-1958.281</td>\n",
       "      <td>7538.707</td>\n",
       "      <td>0</td>\n",
       "    </tr>\n",
       "    <tr>\n",
       "      <th>2</th>\n",
       "      <td>13614.425</td>\n",
       "      <td>14031.129</td>\n",
       "      <td>8661.726</td>\n",
       "      <td>20278.822</td>\n",
       "      <td>13390.640</td>\n",
       "      <td>2383.881</td>\n",
       "      <td>-1956.806</td>\n",
       "      <td>7545.748</td>\n",
       "      <td>0</td>\n",
       "    </tr>\n",
       "    <tr>\n",
       "      <th>3</th>\n",
       "      <td>13620.349</td>\n",
       "      <td>14034.683</td>\n",
       "      <td>8656.809</td>\n",
       "      <td>20277.369</td>\n",
       "      <td>13388.337</td>\n",
       "      <td>2386.451</td>\n",
       "      <td>-1962.617</td>\n",
       "      <td>7535.533</td>\n",
       "      <td>0</td>\n",
       "    </tr>\n",
       "    <tr>\n",
       "      <th>4</th>\n",
       "      <td>13623.299</td>\n",
       "      <td>14045.277</td>\n",
       "      <td>8645.118</td>\n",
       "      <td>20278.262</td>\n",
       "      <td>13371.528</td>\n",
       "      <td>2391.726</td>\n",
       "      <td>-1974.151</td>\n",
       "      <td>7510.790</td>\n",
       "      <td>0</td>\n",
       "    </tr>\n",
       "    <tr>\n",
       "      <th>...</th>\n",
       "      <td>...</td>\n",
       "      <td>...</td>\n",
       "      <td>...</td>\n",
       "      <td>...</td>\n",
       "      <td>...</td>\n",
       "      <td>...</td>\n",
       "      <td>...</td>\n",
       "      <td>...</td>\n",
       "      <td>...</td>\n",
       "    </tr>\n",
       "    <tr>\n",
       "      <th>220447</th>\n",
       "      <td>12531.751</td>\n",
       "      <td>14473.269</td>\n",
       "      <td>8232.259</td>\n",
       "      <td>19328.627</td>\n",
       "      <td>13902.740</td>\n",
       "      <td>3972.531</td>\n",
       "      <td>-1936.466</td>\n",
       "      <td>7300.817</td>\n",
       "      <td>0</td>\n",
       "    </tr>\n",
       "    <tr>\n",
       "      <th>220448</th>\n",
       "      <td>12537.831</td>\n",
       "      <td>14491.150</td>\n",
       "      <td>8234.539</td>\n",
       "      <td>19340.338</td>\n",
       "      <td>13893.822</td>\n",
       "      <td>3974.006</td>\n",
       "      <td>-1923.122</td>\n",
       "      <td>7309.110</td>\n",
       "      <td>0</td>\n",
       "    </tr>\n",
       "    <tr>\n",
       "      <th>220449</th>\n",
       "      <td>12536.355</td>\n",
       "      <td>14490.837</td>\n",
       "      <td>8229.107</td>\n",
       "      <td>19333.768</td>\n",
       "      <td>13899.187</td>\n",
       "      <td>3969.983</td>\n",
       "      <td>-1919.970</td>\n",
       "      <td>7307.210</td>\n",
       "      <td>0</td>\n",
       "    </tr>\n",
       "    <tr>\n",
       "      <th>220450</th>\n",
       "      <td>12543.531</td>\n",
       "      <td>14483.976</td>\n",
       "      <td>8222.179</td>\n",
       "      <td>19326.414</td>\n",
       "      <td>13904.729</td>\n",
       "      <td>3973.403</td>\n",
       "      <td>-1926.609</td>\n",
       "      <td>7308.774</td>\n",
       "      <td>0</td>\n",
       "    </tr>\n",
       "    <tr>\n",
       "      <th>220451</th>\n",
       "      <td>12549.633</td>\n",
       "      <td>14509.389</td>\n",
       "      <td>8233.779</td>\n",
       "      <td>19319.037</td>\n",
       "      <td>13903.411</td>\n",
       "      <td>3976.912</td>\n",
       "      <td>-1924.351</td>\n",
       "      <td>7314.094</td>\n",
       "      <td>0</td>\n",
       "    </tr>\n",
       "  </tbody>\n",
       "</table>\n",
       "<p>220452 rows × 9 columns</p>\n",
       "</div>"
      ],
      "text/plain": [
       "              Fp1        Fp2        F3         F4         F7        F8  \\\n",
       "0       13601.416  14019.104  8651.623  20291.449  13364.712  2385.579   \n",
       "1       13608.167  14024.289  8656.630  20285.705  13375.910  2384.909   \n",
       "2       13614.425  14031.129  8661.726  20278.822  13390.640  2383.881   \n",
       "3       13620.349  14034.683  8656.809  20277.369  13388.337  2386.451   \n",
       "4       13623.299  14045.277  8645.118  20278.262  13371.528  2391.726   \n",
       "...           ...        ...       ...        ...        ...       ...   \n",
       "220447  12531.751  14473.269  8232.259  19328.627  13902.740  3972.531   \n",
       "220448  12537.831  14491.150  8234.539  19340.338  13893.822  3974.006   \n",
       "220449  12536.355  14490.837  8229.107  19333.768  13899.187  3969.983   \n",
       "220450  12543.531  14483.976  8222.179  19326.414  13904.729  3973.403   \n",
       "220451  12549.633  14509.389  8233.779  19319.037  13903.411  3976.912   \n",
       "\n",
       "              O1        O2  Marker  \n",
       "0      -1963.109  7528.604       0  \n",
       "1      -1958.281  7538.707       0  \n",
       "2      -1956.806  7545.748       0  \n",
       "3      -1962.617  7535.533       0  \n",
       "4      -1974.151  7510.790       0  \n",
       "...          ...       ...     ...  \n",
       "220447 -1936.466  7300.817       0  \n",
       "220448 -1923.122  7309.110       0  \n",
       "220449 -1919.970  7307.210       0  \n",
       "220450 -1926.609  7308.774       0  \n",
       "220451 -1924.351  7314.094       0  \n",
       "\n",
       "[220452 rows x 9 columns]"
      ]
     },
     "metadata": {},
     "execution_count": 73
    }
   ],
   "metadata": {}
  },
  {
   "cell_type": "code",
   "execution_count": 74,
   "source": [
    "for marker in pandasRaw['Marker'].unique():\n",
    "    print(marker, marker_idx[marker])"
   ],
   "outputs": [
    {
     "output_type": "stream",
     "name": "stdout",
     "text": [
      "0 0\n",
      "1 math,LowStress,start\n",
      "2 math,LowStress,S\n",
      "3 math,LowStress,T\n",
      "4 math,LowStress,F\n",
      "5 fixation,None,None\n",
      "6 math,MildStress,start\n",
      "7 math,MildStress,S\n",
      "8 math,MildStress,T\n",
      "9 math,MildStress,F\n",
      "10 math,HigherStress,start\n",
      "11 math,HigherStress,T\n",
      "12 math,HigherStress,F\n",
      "13 math,HigherStress,S\n"
     ]
    }
   ],
   "metadata": {}
  },
  {
   "cell_type": "code",
   "execution_count": 75,
   "source": [
    "raw = dataframe_to_raw(pandasRaw, sfreq=250)"
   ],
   "outputs": [],
   "metadata": {}
  },
  {
   "cell_type": "code",
   "execution_count": 76,
   "source": [
    "# Preprocess\n",
    "raw.notch_filter([50,100],filter_length='auto', phase='zero', verbose=False) # Line power\n",
    "raw.filter(1, None, verbose=False) # Slow drift\n",
    "pass\n",
    "# ica = mne.preprocessing.ICA(n_components=8, max_iter='auto')\n",
    "# ica.fit(raw, verbose=False)\n",
    "# raw = ica.apply(raw, verbose=False)"
   ],
   "outputs": [],
   "metadata": {}
  },
  {
   "cell_type": "code",
   "execution_count": 77,
   "source": [
    "events = mne.find_events(raw, stim_channel='Marker', initial_event=True, verbose=False, uint_cast=False)\n",
    "marker_names = ['math,LowStress,start',\n",
    "                'math,LowStress,T',\n",
    "                'math,LowStress,F',\n",
    "                'math,LowStress,S',\n",
    "                'math,MildStress,start',\n",
    "                'math,MildStress,T',\n",
    "                'math,MildStress,F',\n",
    "                'math,MildStress,S',\n",
    "                'math,HigherStress,start',\n",
    "                'math,HigherStress,T',\n",
    "                'math,HigherStress,F',\n",
    "                'math,HigherStress,S',\n",
    "                'fixation,None,None']\n",
    "interested_marker_names = ['math,LowStress,start','math,MildStress,start','math,HigherStress,start','fixation,None,None']\n",
    "\n",
    "interested_markers = [ marker_idx.index(name) for name in interested_marker_names ]\n",
    "\n",
    "for name in marker_names:\n",
    "    task, level, m = name.split(',')\n",
    "    if(name not in marker_idx): continue\n",
    "    number = sum(events[::,2] == marker_idx.index(name))\n",
    "    if(m == 'start'): print(f\"Number of {level} questions: {number}\")\n",
    "    if(m == 'T'): print(f\"  Correct: {number}\")\n",
    "    if(m == 'F'): print(f\"  Wrong: {number}\")\n",
    "    if(m == 'S'): print(f\"  Slow: {number}\")\n",
    "\n",
    "uninterested_markers = list(set(np.unique(events[::,2])).difference(set(interested_markers)))\n",
    "for marker in uninterested_markers:\n",
    "    events = np.delete(events, np.argwhere(events[:,2] == marker), axis=0) "
   ],
   "outputs": [
    {
     "output_type": "stream",
     "name": "stdout",
     "text": [
      "Number of LowStress questions: 65\n",
      "  Correct: 48\n",
      "  Wrong: 7\n",
      "  Slow: 10\n",
      "Number of MildStress questions: 38\n",
      "  Correct: 21\n",
      "  Wrong: 11\n",
      "  Slow: 6\n",
      "Number of HigherStress questions: 15\n",
      "  Correct: 8\n",
      "  Wrong: 6\n",
      "  Slow: 1\n"
     ]
    }
   ],
   "metadata": {}
  },
  {
   "cell_type": "code",
   "execution_count": 78,
   "source": [
    "# Here we only get the event that indicate the begining of the block and fixation.\n",
    "interested_events = []\n",
    "prev_is_Low_start = False\n",
    "prev_is_Mil_start = False\n",
    "prev_is_Hig_start = False\n",
    "Low_start = marker_idx.index('math,LowStress,start')\n",
    "Mil_start = marker_idx.index('math,MildStress,start')\n",
    "Hig_start = marker_idx.index('math,HigherStress,start')\n",
    "\n",
    "for event in events:\n",
    "    if(event[2] == Low_start and prev_is_Low_start == False):\n",
    "        interested_events.append(list(event))\n",
    "        prev_is_Low_start = True\n",
    "    elif(event[2] != Low_start):\n",
    "        prev_is_Low_start = False\n",
    "\n",
    "    if(event[2] == Mil_start and prev_is_Mil_start == False):\n",
    "        interested_events.append(list(event))\n",
    "        prev_is_Mil_start = True\n",
    "    elif(event[2] != Mil_start):\n",
    "        prev_is_Mil_start = False\n",
    "\n",
    "    if(event[2] == Hig_start and prev_is_Hig_start == False):\n",
    "        interested_events.append(list(event))\n",
    "        prev_is_Hig_start = True\n",
    "    elif(event[2] != Hig_start):\n",
    "        prev_is_Hig_start = False\n",
    "\n",
    "\n",
    "    if(event[2] == marker_idx.index('fixation,None,None')):\n",
    "        interested_events.append(list(event))\n",
    "    # print(event)\n",
    "interested_events = np.array(interested_events)\n",
    "interested_events"
   ],
   "outputs": [
    {
     "output_type": "execute_result",
     "data": {
      "text/plain": [
       "array([[  2615,      0,      1],\n",
       "       [ 13105,      0,      5],\n",
       "       [ 15871,      0,      1],\n",
       "       [ 25906,      0,      5],\n",
       "       [ 28672,      0,      1],\n",
       "       [ 38968,      0,      5],\n",
       "       [ 41733,      0,      1],\n",
       "       [ 51983,      0,      5],\n",
       "       [ 70772,      0,      6],\n",
       "       [ 81593,      0,      5],\n",
       "       [ 84359,      0,      6],\n",
       "       [ 95196,      0,      5],\n",
       "       [ 97962,      0,      6],\n",
       "       [108572,      0,      5],\n",
       "       [111337,      0,      6],\n",
       "       [122097,      0,      5],\n",
       "       [140900,      0,     10],\n",
       "       [151647,      0,      5],\n",
       "       [154412,      0,     10],\n",
       "       [169533,      0,      5],\n",
       "       [172298,      0,     10],\n",
       "       [182594,      0,      5],\n",
       "       [185360,      0,     10],\n",
       "       [198872,      0,      5]])"
      ]
     },
     "metadata": {},
     "execution_count": 78
    }
   ],
   "metadata": {}
  },
  {
   "cell_type": "code",
   "execution_count": 79,
   "source": [
    "# Here we split the block into chuncks\n",
    "chunck_size = 5 # second\n",
    "\n",
    "m_start = interested_events[0::2]\n",
    "m_stop = interested_events[1::2]\n",
    "chunck_events = []\n",
    "for index, (start, stop) in enumerate(zip(m_start, m_stop)):\n",
    "    # [time_stamp, _, marker]\n",
    "    a = start[2] in interested_markers\n",
    "    b = stop[2] == marker_idx.index('fixation,None,None')\n",
    "    if((a and b) == False):\n",
    "        raise ValueError(f\"at {index}, found unexpected marker order. start='{marker_idx[start[2]]}' stop='{marker_idx[stop[2]]}'\")\n",
    "    for i in range(start[0], start[0]+(30*250)+1, chunck_size*250):\n",
    "        if(i + chunck_size*250 >= stop[0]):\n",
    "            raise ValueError(f\"start stop is incorrect.\")\n",
    "        chunck_events.append([i,0,start[2]])\n",
    "\n",
    "chunck_events = np.array(chunck_events)\n",
    "num_low = sum(chunck_events[::,2] == marker_idx.index('math,LowStress,start'))\n",
    "num_mil = sum(chunck_events[::,2] == marker_idx.index('math,MildStress,start'))\n",
    "num_hig = sum(chunck_events[::,2] == marker_idx.index('math,HigherStress,start'))\n",
    "if(num_low != num_mil or num_mil != num_hig):\n",
    "    raise ValueError(f\"The number of chuncked events is not equal. LowStress={num_low} MildStress={num_mil} HigherStress={num_hig}\")\n",
    "print(f\"Number of samples of each block: {num_low}\")\n",
    "num_chunck = num_low\n"
   ],
   "outputs": [
    {
     "output_type": "stream",
     "name": "stdout",
     "text": [
      "Number of samples of each block: 28\n"
     ]
    }
   ],
   "metadata": {}
  },
  {
   "cell_type": "code",
   "execution_count": 80,
   "source": [
    "t_start, t_stop = 0.3, 4.8\n",
    "epochs = mne.Epochs(raw, chunck_events, tmin=t_start, tmax=t_stop, baseline=(t_start,t_stop), verbose=False)"
   ],
   "outputs": [],
   "metadata": {}
  },
  {
   "cell_type": "code",
   "execution_count": 81,
   "source": [
    "# 0,4 Delta\n",
    "# 4,8 Theta\n",
    "# 8,16 Alpha ***\n",
    "# 16,32 Beta \n",
    "# 32,64 Noisy Gamma\n",
    "# 64,128 Noisy Signal\n",
    "# frequencies = np.arange(8, 32+1, 8)\n",
    "frequencies = np.array([10,11,12,13,14])\n",
    "features = []\n",
    "labels = []\n",
    "for index, evoked in enumerate(epochs.iter_evoked()):\n",
    "    event = evoked.comment\n",
    "    tfr_obj = mne.time_frequency.tfr_morlet(evoked, n_cycles=3, return_itc=False, freqs=frequencies, decim=3)\n",
    "    # (channel,freq,time-window)\n",
    "    coeff = tfr_obj.data \n",
    "    # (freq,time-window)\n",
    "    coeff = coeff.mean(axis=0)\n",
    "    # alpha mean\n",
    "    coeff = coeff.mean()\n",
    "    features.append(coeff)\n",
    "    labels.append(event)\n",
    "# features = np.array(features)\n",
    "# features.shape"
   ],
   "outputs": [],
   "metadata": {}
  },
  {
   "cell_type": "code",
   "execution_count": 82,
   "source": [
    "from sklearn.preprocessing import normalize\n",
    "f_norm = normalize(np.array(features).reshape(-1,1), axis=0, norm='max')\n",
    "# f_norm = np.array(features).reshape(-1,1)\n",
    "plt.scatter(range(num_chunck*0,num_chunck*1),f_norm[num_chunck*0:num_chunck*1])\n",
    "plt.scatter(range(num_chunck*1,num_chunck*2),f_norm[num_chunck*1:num_chunck*2])\n",
    "plt.scatter(range(num_chunck*2,num_chunck*3),f_norm[num_chunck*2:num_chunck*3])\n",
    "# plt.ylim(0,0.015)"
   ],
   "outputs": [
    {
     "output_type": "execute_result",
     "data": {
      "text/plain": [
       "<matplotlib.collections.PathCollection at 0x7fc7e4215220>"
      ]
     },
     "metadata": {},
     "execution_count": 82
    },
    {
     "output_type": "display_data",
     "data": {
      "image/png": "[encoded data removed]",
      "text/plain": [
       "<Figure size 432x288 with 1 Axes>"
      ]
     },
     "metadata": {
      "needs_background": "light"
     }
    }
   ],
   "metadata": {}
  },
  {
   "cell_type": "code",
   "execution_count": null,
   "source": [],
   "outputs": [],
   "metadata": {}
  },
  {
   "cell_type": "code",
   "execution_count": null,
   "source": [],
   "outputs": [],
   "metadata": {}
  }
 ],
 "metadata": {
  "orig_nbformat": 4,
  "language_info": {
   "name": "python",
   "version": "3.8.10",
   "mimetype": "text/x-python",
   "codemirror_mode": {
    "name": "ipython",
    "version": 3
   },
   "pygments_lexer": "ipython3",
   "nbconvert_exporter": "python",
   "file_extension": ".py"
  },
  "kernelspec": {
   "name": "python3",
   "display_name": "Python 3.8.10 64-bit ('hci': venv)"
  },
  "interpreter": {
   "hash": "815efcf0c7342b169540b615ea1bef3fe0d02f9423b58bdf03d9ef3fd8d24248"
  }
 },
 "nbformat": 4,
 "nbformat_minor": 2
}